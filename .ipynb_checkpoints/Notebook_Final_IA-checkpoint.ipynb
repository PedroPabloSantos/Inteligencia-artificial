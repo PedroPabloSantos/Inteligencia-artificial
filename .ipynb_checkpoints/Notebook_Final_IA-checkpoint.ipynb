{
 "cells": [
  {
   "cell_type": "markdown",
   "id": "fcd1b413-c431-4469-add5-e6da47830699",
   "metadata": {},
   "source": [
    "# **Selección de características en modelos predictivos**\n",
    "\n",
    "## Inteligencia Artificial (IS) 2023/24 – Trabajo\n",
    "\n",
    "### Autores: José María Baquero Rodríguez y Pedro Pablo Santos Domínguez"
   ]
  },
  {
   "cell_type": "markdown",
   "id": "31541328-e27f-44aa-a277-8e7755b789f9",
   "metadata": {},
   "source": [
    "En este notebook se presenta una descripción detallada y exhaustiva en primer lugar se expone la implementación realizada para llevar a cabo el trabajo. \n",
    "Posteriormente, se muestran las pruebas realizadas utilizando los conjuntos de datos poporcionados."
   ]
  },
  {
   "cell_type": "markdown",
   "id": "e41d5b60-1ac9-4e5d-bf5c-88e5a2e79ec8",
   "metadata": {},
   "source": [
    "## Importación de librerías y paquetes externos"
   ]
  },
  {
   "cell_type": "markdown",
   "id": "d1d083ae-5cae-41c6-a1f6-7b77c3d3f6be",
   "metadata": {},
   "source": [
    "Para implementar las funciones qeu se presentarán en este notebook, es necesrio importar una serie de bibliotecas y recursos. A continucación se detallan los elementos requeridos."
   ]
  },
  {
   "cell_type": "code",
   "execution_count": null,
   "id": "9c817c9b-d992-4d7b-be8d-1e8944c950e9",
   "metadata": {},
   "outputs": [],
   "source": [
    "#poner las importaciones\n",
    "\n"
   ]
  },
  {
   "cell_type": "markdown",
   "id": "636ca440-6166-4c31-90d0-b4ecba98ae33",
   "metadata": {},
   "source": [
    "Análisis de las importaciones:\n",
    "\n",
    "- Numpy : Se utiliza para realizar cálculos científicos y será empleado en diversas ocasiones a lo largo de la implementación.\n",
    "  \n",
    "- Pandas : Es un paquete Python utilizado para el análisis de datos, lectura de archivos y tratamiento de información. En nuestro caso se utilizará para el procesamiento de los datos.\n",
    "\n",
    "Además las siguientesimportaciones están relacionadas con el paquete  _scikit-learn_, que contienen funciones e implementaciones para el trabajo con aprendizaje automático en Python.\n",
    "\n",
    "- cross_val_score : Proporcionada por  _sklearn_ permitiendo realizar un experimento de valñidación cruzada para obtener una tasa de acierto del algoritmo que le proporcionemos como parámetro.\n",
    "  \n",
    "-  DecisionTreeClassifier : Este algoritmo contruye árboles binarios y será evaluado mediat validación cruzada.\n",
    "\n"
   ]
  },
  {
   "cell_type": "markdown",
   "id": "5158b493-1c17-42a2-828d-c30b7700c414",
   "metadata": {},
   "source": [
    "***"
   ]
  },
  {
   "cell_type": "markdown",
   "id": "d49a28c0-49ba-4edd-94e7-2e01f67b6609",
   "metadata": {},
   "source": [
    "## Implementación"
   ]
  },
  {
   "cell_type": "markdown",
   "id": "c6cf7524-f50b-492f-b015-d29e61c62d12",
   "metadata": {},
   "source": [
    "### Implemetación del método de evaluación"
   ]
  },
  {
   "cell_type": "markdown",
   "id": "b52ce9ed-206a-47da-93f8-784296a30aac",
   "metadata": {},
   "source": [
    "El algortimo _rendimiento_ evalúa el desempeño de un conjunto de característiacs en un modelo de decision utilizando validación cruzada. A continuación se resrnta unaexplicación paso a paso del algoritmo: \n",
    " ---(seguir decripcion cuante este termionado con los 2 metodos)"
   ]
  },
  {
   "cell_type": "code",
   "execution_count": null,
   "id": "0be3a511-0edf-4c64-b69c-ae377ab6b7cc",
   "metadata": {},
   "outputs": [],
   "source": [
    "## codigo de la fucnion de rendimiento.\n"
   ]
  },
  {
   "cell_type": "markdown",
   "id": "db34e2ba-b7b7-42c1-81e3-e9b006c318da",
   "metadata": {},
   "source": [
    "### Implementación del algortimo de Busqueda secuelcial hacia atrás"
   ]
  },
  {
   "cell_type": "markdown",
   "id": "a5323ba3-f604-4283-89d7-8153137a0589",
   "metadata": {},
   "source": [
    "El algoritmo de búsqueda secuencial hacia atrás es una técnica de selección de características que busca reducir el número de variables predictoras de un modelo, eliminando iterativamente las características menos importantes y evaluando el rendimiento del modelo en cada paso. Aquí se presenta una descripción detallada de su implementación:\n",
    "\n",
    "- Descripción del Algoritmo\n",
    "\n",
    "     - Entrada:\n",
    "       - Conjunto de datos: Incluye N variables predictoras y una variable respuesta.\n",
    "        - Parámetros adicionales: Número de experimentos (n_exp) y número de validaciones cruzadas (cv).\n",
    "          \n",
    "    - Salida:\n",
    "        - Tabla de resultados: Contiene las combinaciones obtenidas en cada iteración, su tamaño y su rendimiento.\n",
    "          \n",
    "    - Inicialización:\n",
    "        - Solución Actual (solucion_actual): Inicialmente contiene todas las variables predictoras disponibles.\n",
    "\n",
    "    - Ejecución:\n",
    "        - Iteración desde K = N hasta 1:\n",
    "            - Para cada variable V en solucion_actual:\n",
    "            Crear una Solución Temporal (solucion_temporal) eliminando la variable V de solucion_actual.\n",
    "            Evaluar el rendimiento de solucion_temporal utilizando una evaluación robusta (validación cruzada) y guardar el rendimiento.\n",
    "            - Seleccionar la Mejor Solución Temporal (la que proporcione el mayor rendimiento) y actualizar solucion_actual con esta mejor solución.\n",
    "            - Guardar la Mejor Solución Temporal, su tamaño y su rendimiento en la tabla de resultados.\n",
    "            - Repetir hasta que todas las variables hayan sido evaluadas y eliminadas una a una.\n",
    "              \n",
    "    - Devolución de Resultados:\n",
    "\n",
    "        - La tabla de resultados contendrá K soluciones, cada una de diferente tamaño. La primera fila tendrá la solución con todas las variables y la última fila tendrá la solución con una sola variable."
   ]
  },
  {
   "cell_type": "code",
   "execution_count": 34,
   "id": "b4888db2-bc4c-4b9e-8c0a-2280ec235cdb",
   "metadata": {},
   "outputs": [],
   "source": [
    "## codigo de la busqueda"
   ]
  },
  {
   "cell_type": "markdown",
   "id": "1ddd744f-155c-41cb-a616-9da26dc02419",
   "metadata": {},
   "source": [
    "***"
   ]
  },
  {
   "cell_type": "markdown",
   "id": "8fde109e-bbfd-4744-afb1-53f79b7b9f31",
   "metadata": {},
   "source": [
    "## Pruebas y experimentos"
   ]
  },
  {
   "cell_type": "markdown",
   "id": "d6d7b5a2-91be-4d25-b1d8-828a9e82c8ee",
   "metadata": {},
   "source": [
    "Para llevar a cabo las pruebas de los algoritmos y realizar experimentos, emplearemos varios conjuntos de datos suministrados por la propuesta de trabajo, los cuales ya están preprocesados.\n",
    "\n",
    "Haremos uso de la librería Pandas, que nos permitirá tarbajar con los datos a través de DataFrames, los cuales servirán como base de información para los algoritmos que evaluaremos.\n",
    "\n",
    "Inicialmente, cargaremos el conjunto de datos de los pasajeros del Titanic. Posteriormente, procederemos a importar el conjunto de datos relacionado con el cáncer de mama.\n"
   ]
  },
  {
   "cell_type": "code",
   "execution_count": 52,
   "id": "c48581e8-897c-4711-bba1-e52d995079d9",
   "metadata": {},
   "outputs": [],
   "source": [
    "## lecturas de los 2 ficheros\n"
   ]
  },
  {
   "cell_type": "code",
   "execution_count": null,
   "id": "f1c3266b-2c80-43e3-b96e-6ad1cd6f54d6",
   "metadata": {},
   "outputs": [],
   "source": [
    "#tratamiento de los datos"
   ]
  },
  {
   "cell_type": "markdown",
   "id": "adc1d287-b00d-4498-88c0-6499363faf10",
   "metadata": {},
   "source": [
    "### Pruebas básicas sobre los conjuntos de datos"
   ]
  },
  {
   "cell_type": "markdown",
   "id": "58567c36-79cf-4dd2-bda6-ae75e989ef4b",
   "metadata": {},
   "source": [
    "Ejecutamos una estimación sobre los conjuntos de datos para comprobar su funcionamiento previo."
   ]
  },
  {
   "cell_type": "markdown",
   "id": "d11e3b16-e88c-4139-94c5-8bd85ed311dd",
   "metadata": {},
   "source": [
    "#### Conjunto de datos Titanic.csv"
   ]
  },
  {
   "cell_type": "markdown",
   "id": "3982682e-f00c-4a52-9e3a-a960f8991a1e",
   "metadata": {},
   "source": [
    "Primero probaremos el conjunto de caractterísticas completo, para  después ir reduciendo el número de características y comprobar sus resultados."
   ]
  },
  {
   "cell_type": "code",
   "execution_count": null,
   "id": "05cfb27b-ea7e-4ee2-9497-975dee18658a",
   "metadata": {},
   "outputs": [],
   "source": [
    "# comprobar con todas las carac"
   ]
  },
  {
   "cell_type": "code",
   "execution_count": 45,
   "id": "3e51e7a5-a9c9-4b34-8228-656ccb0b5793",
   "metadata": {},
   "outputs": [],
   "source": [
    "# comprobar con 4 las carac"
   ]
  },
  {
   "cell_type": "code",
   "execution_count": null,
   "id": "6958582f-77ea-42d5-b781-a4bf49f0684d",
   "metadata": {},
   "outputs": [],
   "source": [
    "# comprobar con 1  carac"
   ]
  },
  {
   "cell_type": "code",
   "execution_count": null,
   "id": "c222be60-a8d8-4736-b859-b572e32332e1",
   "metadata": {},
   "outputs": [],
   "source": []
  },
  {
   "cell_type": "markdown",
   "id": "beb16279-02d6-440d-b8f7-6027af2996fc",
   "metadata": {},
   "source": [
    "#### Conjunto de datos BreastCancer.csv"
   ]
  },
  {
   "cell_type": "markdown",
   "id": "81704fec-2131-40d7-aa89-52d801665cb8",
   "metadata": {},
   "source": [
    "Actuamos de igual forma, primero probamos con todas las características y vamos reduciento el número de las mismas para probar sus resultados."
   ]
  },
  {
   "cell_type": "code",
   "execution_count": null,
   "id": "d20343df-00be-4589-abc4-eab751806321",
   "metadata": {},
   "outputs": [],
   "source": [
    "# comprobar con todas las carac"
   ]
  },
  {
   "cell_type": "code",
   "execution_count": null,
   "id": "1aca30e8-a342-4ed1-8e5b-34b91a4eadab",
   "metadata": {},
   "outputs": [],
   "source": [
    "# comprobar con 4 las carac"
   ]
  },
  {
   "cell_type": "code",
   "execution_count": null,
   "id": "53a164dd-466e-4b30-be47-d6ce4441f6ff",
   "metadata": {},
   "outputs": [],
   "source": [
    "# comprobar con 1  carac"
   ]
  },
  {
   "cell_type": "markdown",
   "id": "313d3dc0-1d4b-4421-9900-dc201f795fcd",
   "metadata": {},
   "source": [
    "(escribir alguna conclusion de las prubas)"
   ]
  },
  {
   "cell_type": "code",
   "execution_count": null,
   "id": "176f35f6-8ca8-4b16-95c9-9bf596209a05",
   "metadata": {},
   "outputs": [],
   "source": []
  }
 ],
 "metadata": {
  "kernelspec": {
   "display_name": "Python 3 (ipykernel)",
   "language": "python",
   "name": "python3"
  },
  "language_info": {
   "codemirror_mode": {
    "name": "ipython",
    "version": 3
   },
   "file_extension": ".py",
   "mimetype": "text/x-python",
   "name": "python",
   "nbconvert_exporter": "python",
   "pygments_lexer": "ipython3",
   "version": "3.11.7"
  }
 },
 "nbformat": 4,
 "nbformat_minor": 5
}
