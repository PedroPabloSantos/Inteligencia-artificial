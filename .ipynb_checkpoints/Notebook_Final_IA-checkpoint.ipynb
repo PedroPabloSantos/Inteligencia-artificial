{
 "cells": [
  {
   "cell_type": "markdown",
   "id": "fcd1b413-c431-4469-add5-e6da47830699",
   "metadata": {},
   "source": [
    "# **Selección de características en modelos predictivos**\n",
    "\n",
    "## Inteligencia Artificial (IS) 2023/24 – Trabajo\n",
    "\n",
    "### Autores: José María Baquero Rodríguez y Pedro Pablo Santos Domínguez"
   ]
  },
  {
   "cell_type": "markdown",
   "id": "31541328-e27f-44aa-a277-8e7755b789f9",
   "metadata": {},
   "source": [
    "En este notebook se presenta una descripción detallada y exhaustiva en primer lugar se expone la implementación realizada para llevar a cabo el trabajo. \n",
    "Posteriormente, se muestran las pruebas realizadas utilizando los conjuntos de datos poporcionados."
   ]
  },
  {
   "cell_type": "markdown",
   "id": "e41d5b60-1ac9-4e5d-bf5c-88e5a2e79ec8",
   "metadata": {},
   "source": [
    "## Importación de librerías y paquetes externos"
   ]
  },
  {
   "cell_type": "markdown",
   "id": "d1d083ae-5cae-41c6-a1f6-7b77c3d3f6be",
   "metadata": {},
   "source": [
    "Para implementar las funciones qeu se presentarán en este notebook, es necesrio importar una serie de bibliotecas y recursos. A continucación se detallan los elementos requeridos."
   ]
  },
  {
   "cell_type": "code",
   "execution_count": null,
   "id": "9c817c9b-d992-4d7b-be8d-1e8944c950e9",
   "metadata": {},
   "outputs": [],
   "source": [
    "#poner las importaciones\n",
    "import pandas as pd\n",
    "\n",
    "import numpy as np\n",
    "\n",
    "from sklearn.preprocessing import OrdinalEncoder, LabelEncoder\n",
    "\n",
    "from sklearn.tree import DecisionTreeClassifier\n",
    "\n",
    "from matplotlib import pyplot\n",
    "from sklearn.tree import plot_tree\n",
    "from sklearn.metrics import confusion_matrix\n",
    "from sklearn.metrics import recall_score\n",
    "from sklearn.model_selection import cross_validate\n",
    "from sklearn.model_selection import train_test_split\n",
    "from sklearn.preprocessing import KBinsDiscretizer"
   ]
  },
  {
   "cell_type": "markdown",
   "id": "636ca440-6166-4c31-90d0-b4ecba98ae33",
   "metadata": {},
   "source": [
    "Análisis de las importaciones:\n",
    "\n",
    "- Numpy : Se utiliza para realizar cálculos científicos y será empleado en diversas ocasiones a lo largo de la implementación.\n",
    "  \n",
    "- Pandas : Es un paquete Python utilizado para el análisis de datos, lectura de archivos y tratamiento de información. En nuestro caso se utilizará para el procesamiento de los datos.\n",
    "\n",
    "Además las siguientesimportaciones están relacionadas con el paquete  _scikit-learn_, que contienen funciones e implementaciones para el trabajo con aprendizaje automático en Python.\n",
    "\n",
    "- cross_val_score : Proporcionada por  _sklearn_ permitiendo realizar un experimento de validación cruzada para obtener una tasa de acierto del algoritmo que le proporcionemos como parámetro.\n",
    "  \n",
    "-  DecisionTreeClassifier : Este algoritmo contruye árboles binarios y será evaluado mediante validación cruzada.\n",
    "\n"
   ]
  },
  {
   "cell_type": "markdown",
   "id": "5158b493-1c17-42a2-828d-c30b7700c414",
   "metadata": {},
   "source": [
    "***"
   ]
  },
  {
   "cell_type": "markdown",
   "id": "d49a28c0-49ba-4edd-94e7-2e01f67b6609",
   "metadata": {},
   "source": [
    "## Implementación"
   ]
  },
  {
   "cell_type": "markdown",
   "id": "c6cf7524-f50b-492f-b015-d29e61c62d12",
   "metadata": {},
   "source": [
    "### Implemetación del método de evaluación"
   ]
  },
  {
   "cell_type": "markdown",
   "id": "b52ce9ed-206a-47da-93f8-784296a30aac",
   "metadata": {},
   "source": [
    "El algortimo _rendimiento_ evalúa el desempeño de un conjunto de característiacs en un modelo de decision utilizando validación cruzada. A continuación se resrnta unaexplicación paso a paso del algoritmo: \n",
    " ---(seguir decripcion cuante este termionado con los 2 metodos)"
   ]
  },
  {
   "cell_type": "code",
   "execution_count": null,
   "id": "0be3a511-0edf-4c64-b69c-ae377ab6b7cc",
   "metadata": {},
   "outputs": [],
   "source": [
    "## codigo de la fucnion de rendimiento.\n",
    "def rendimiento(atributos, objetivo, feature):\n",
    "    \n",
    "    # tree = decision_tree(atributos, objetivo, atributos_discretos)\n",
    "    clasificador_CART = DecisionTreeClassifier()\n",
    "    score = cross_validate(clasificador_CART, atributos_titanic[feature], objetivo_titanic, cv = 10, scoring = 'balanced_accuracy')\n",
    "    return np.mean(score['test_score'])"
   ]
  },
  {
   "cell_type": "markdown",
   "id": "db34e2ba-b7b7-42c1-81e3-e9b006c318da",
   "metadata": {},
   "source": [
    "### Implementación del algortimo de Busqueda secuelcial hacia atrás"
   ]
  },
  {
   "cell_type": "markdown",
   "id": "a5323ba3-f604-4283-89d7-8153137a0589",
   "metadata": {},
   "source": [
    "El algoritmo de búsqueda secuencial hacia atrás es una técnica de selección de características que busca reducir el número de variables predictoras de un modelo, eliminando iterativamente las características menos importantes y evaluando el rendimiento del modelo en cada paso. Aquí se presenta una descripción detallada de su implementación:\n",
    "\n",
    "- Descripción del Algoritmo\n",
    "\n",
    "     - Entrada:\n",
    "       - Conjunto de datos: Incluye N variables predictoras y una variable respuesta.\n",
    "        - Parámetros adicionales: Número de experimentos (n_exp) y número de validaciones cruzadas (cv).\n",
    "          \n",
    "    - Salida:\n",
    "        - Tabla de resultados: Contiene las combinaciones obtenidas en cada iteración, su tamaño y su rendimiento.\n",
    "          \n",
    "    - Inicialización:\n",
    "        - Solución Actual (solucion_actual): Inicialmente contiene todas las variables predictoras disponibles.\n",
    "\n",
    "    - Ejecución:\n",
    "        - Iteración desde K = N hasta 1:\n",
    "            - Para cada variable V en solucion_actual:\n",
    "            Crear una Solución Temporal (solucion_temporal) eliminando la variable V de solucion_actual.\n",
    "            Evaluar el rendimiento de solucion_temporal utilizando una evaluación robusta (validación cruzada) y guardar el rendimiento.\n",
    "            - Seleccionar la Mejor Solución Temporal (la que proporcione el mayor rendimiento) y actualizar solucion_actual con esta mejor solución.\n",
    "            - Guardar la Mejor Solución Temporal, su tamaño y su rendimiento en la tabla de resultados.\n",
    "            - Repetir hasta que todas las variables hayan sido evaluadas y eliminadas una a una.\n",
    "              \n",
    "    - Devolución de Resultados:\n",
    "\n",
    "        - La tabla de resultados contendrá K soluciones, cada una de diferente tamaño. La primera fila tendrá la solución con todas las variables y la última fila tendrá la solución con una sola variable."
   ]
  },
  {
   "cell_type": "code",
   "execution_count": 34,
   "id": "b4888db2-bc4c-4b9e-8c0a-2280ec235cdb",
   "metadata": {},
   "outputs": [],
   "source": [
    "## codigo de la busqueda\n",
    "def busqueda_secuencial_hacia_atras(atributos, objetivo, n_exp=10, cv=10):\n",
    "    # Inicialización\n",
    "    solucion_actual = list(atributos.columns)\n",
    "    n_features = len(solucion_actual)\n",
    "    resultados = []\n",
    "\n",
    "     # Guardar el rendimiento de la solución inicial completa\n",
    "    rendimiento_inicial = rendimiento(atributos, objetivo, solucion_actual)\n",
    "    resultados.append((solucion_actual.copy(), len(solucion_actual), rendimiento_inicial))\n",
    "\n",
    "    \n",
    "    # Ejecución\n",
    "    while len(solucion_actual) > 1:\n",
    "        \n",
    "        mejor_rendimiento = -float('inf')\n",
    "        peor_feature = None\n",
    "        \n",
    "        # Evaluar todas las posibles soluciones temporales\n",
    "        for feature in solucion_actual:\n",
    "            solucion_temporal = solucion_actual.copy()\n",
    "            solucion_temporal.remove(feature)\n",
    "            rendimiento_temporal = rendimiento(atributos, objetivo, solucion_temporal)\n",
    "\n",
    "            print(f\"Evaluando sin {feature}: {solucion_temporal} - Rendimiento: {rendimiento_temporal}\")\n",
    "\n",
    "            # Guardar el rendimiento de la peor característica\n",
    "            if rendimiento_temporal > mejor_rendimiento:\n",
    "                mejor_rendimiento = rendimiento_temporal\n",
    "                peor_feature = feature\n",
    "                \n",
    "        \n",
    "        # Actualizar la solución actual eliminando la peor característica\n",
    "        solucion_actual.remove(peor_feature)\n",
    "\n",
    "        resultados.append((solucion_actual.copy(), len(solucion_actual), mejor_rendimiento))\n",
    "    \n",
    "    # Crear un DataFrame con los resultados\n",
    "    df_resultados = pd.DataFrame(resultados, columns=['MejorSolucionTemporal', 'Tamaño', 'Rendimiento']).sort_values(by='Rendimiento', ascending=False)\n",
    "    \n",
    "    # Devolver los resultados en forma de DataFrame\n",
    "    return df_resultados"
   ]
  },
  {
   "cell_type": "markdown",
   "id": "5976fd97-57ae-492b-a697-8834ad9f416e",
   "metadata": {},
   "source": [
    "### Implementación del algortimo de Busqueda secuencial hacia atrás mixta"
   ]
  },
  {
   "cell_type": "markdown",
   "id": "6325ea47-0d03-4b1e-9756-3b21dbd88f5b",
   "metadata": {},
   "source": [
    "El algoritmo de búsqueda secuencial hacia atrás mixta es una técnica avanzada de selección de características que combina estrategias de eliminación y adición de variables para encontrar el subconjunto óptimo de variables predictoras. Este método incorpora un control riguroso de las variables ya procesadas para evitar bucles infinitos y asegurar una evaluación robusta del rendimiento del modelo. A continuación, se presenta una descripción detallada de su implementación:\n",
    "\n",
    "- Entrada:\n",
    "    - Conjunto de datos: Incluye N variables predictoras y una variable respuesta.\n",
    "    - Parámetros adicionales: Otros parámetros necesarios para la ejecución del algoritmo.\n",
    "\n",
    "- Salida:\n",
    "    - Tabla de resultados: Contiene las combinaciones obtenidas en cada iteración, su tamaño y su rendimiento.\n",
    "\n",
    "- Inicialización:\n",
    "    - SoluciónActual: Almacena el mejor conjunto de variables obtenido en cada iteración. Inicialmente contiene todas las variables.\n",
    "    - Añadidos: Almacena las variables que han sido añadidas.\n",
    "    - Eliminados: Almacena las variables que han sido eliminadas.\n",
    "\n",
    "- Ejecución:\n",
    "    - Mientras no se cumpla la CondiciónDeParada:\n",
    "\n",
    "        - Eliminar la Peor Variable:\n",
    "\n",
    "        - Seleccionar la peor variable para eliminar de SoluciónActual. Para cada variable V de SoluciónActual que no esté en Eliminados:\n",
    "        - SoluciónTemporal = SoluciónActual - V\n",
    "        - Evaluar SoluciónTemporal mediante una evaluación robusta y guardar su rendimiento.\n",
    "        - Seleccionar la mejor SoluciónTemporal (la que proporcione mayor rendimiento) y actualizar SoluciónActual = MejorSoluciónTemporal.\n",
    "        - Actualizar Eliminados añadiendo a esta lista la variable eliminada de SoluciónActual.\n",
    "    - Añadir la Mejor Variable (Solo si Hay Mejora):\n",
    "\n",
    "        - Seleccionar la mejor variable para añadir a SoluciónActual. Para cada variable V del conjunto original de variables que no se encuentre en SoluciónActual ni en Añadidos:\n",
    "        - SoluciónTemporal = SoluciónActual + V\n",
    "        - Evaluar SoluciónTemporal mediante una evaluación robusta y guardar su rendimiento.\n",
    "        - Seleccionar la mejor SoluciónTemporal (la que proporcione mayor rendimiento). Solo si el rendimiento de la mejor SoluciónTemporal es superior al rendimiento de la mejor solución obtenida en el paso anterior:\n",
    "        - Actualizar SoluciónActual = MejorSoluciónTemporal.\n",
    "        - Actualizar Añadidos añadiendo la variable añadida.\n",
    "        - Evaluar la Condición de Parada.\n",
    "- Condición de Parada:\n",
    "La condición de parada solo puede ser cierta una vez que todas las variables han sido procesadas por el proceso de eliminación, es decir, cuando Eliminados contiene todas las variables originales. En este punto, se utiliza un contador para contar las iteraciones que transcurren sin que se añadan variables (ya no se pueden eliminar variables). Si en alguna iteración una nueva variable es añadida, el contador se resetea a cero. Si el contador alcanza un umbral, se considera que se cumple la condición de parada y se detiene el algoritmo. Este criterio de parada permite obtener soluciones más robustas, asegurando que se han añadido todas las variables relevantes.\n",
    "\n",
    "- Devolución:\n",
    "Devolver una tabla con cada una de las MejorSoluciónTemporal (obtenida al final de cada iteración), el tamaño y el rendimiento de cada una."
   ]
  },
  {
   "cell_type": "code",
   "execution_count": 5,
   "id": "4b7031d6-d3ed-4dee-9e3d-4d3b5c60e501",
   "metadata": {},
   "outputs": [],
   "source": [
    "## codigo de la busqueda\n",
    "def busqueda_secuencial_hacia_atras_mixta(atributos, objetivo, n_exp=10, cv=7, umbral=10):\n",
    "    # Inicialización\n",
    "    solucion_actual = list(atributos.columns)\n",
    "    añadidos = []\n",
    "    eliminados = []\n",
    "    iteraciones_sin_mejora = 0\n",
    "    rendimiento_actual = rendimiento(atributos, objetivo, solucion_actual)\n",
    "    \n",
    "    resultados = [(solucion_actual.copy(), len(solucion_actual), rendimiento_actual)]\n",
    "    \n",
    "    # Ejecución\n",
    "    while len(eliminados) < len(atributos.columns):\n",
    "        mejor_rendimiento = -float('inf')\n",
    "        peor_feature = None\n",
    "        \n",
    "        # Evaluar todas las posibles soluciones temporales eliminando una variable\n",
    "        for feature in solucion_actual:\n",
    "            if feature not in eliminados:\n",
    "                solucion_temporal = solucion_actual.copy()\n",
    "                solucion_temporal.remove(feature)\n",
    "                rendimiento_temporal = rendimiento(atributos, objetivo, solucion_temporal)\n",
    "\n",
    "                if rendimiento_temporal > mejor_rendimiento:\n",
    "                    mejor_rendimiento = rendimiento_temporal\n",
    "                    peor_feature = feature\n",
    "        \n",
    "        # Actualizar la solución actual eliminando la peor característica\n",
    "        solucion_actual.remove(peor_feature)\n",
    "        eliminados.append(peor_feature)\n",
    "        rendimiento_actual = mejor_rendimiento\n",
    "\n",
    "        resultados.append((solucion_actual.copy(), len(solucion_actual), rendimiento_actual))\n",
    "\n",
    "        # Intentar añadir la mejor característica si hay mejora\n",
    "        mejor_rendimiento_añadir = -float('inf')\n",
    "        mejor_feature_añadir = None\n",
    "        \n",
    "        for feature in atributos.columns:\n",
    "            if feature not in solucion_actual and feature not in añadidos:\n",
    "                solucion_temporal = solucion_actual.copy()\n",
    "                solucion_temporal.append(feature)\n",
    "                rendimiento_temporal = rendimiento(atributos, objetivo, solucion_temporal)\n",
    "\n",
    "                if rendimiento_temporal > mejor_rendimiento_añadir:\n",
    "                    mejor_rendimiento_añadir = rendimiento_temporal\n",
    "                    mejor_feature_añadir = feature\n",
    "\n",
    "        if mejor_rendimiento_añadir > rendimiento_actual:\n",
    "            solucion_actual.append(mejor_feature_añadir)\n",
    "            añadidos.append(mejor_feature_añadir)\n",
    "            rendimiento_actual = mejor_rendimiento_añadir\n",
    "            iteraciones_sin_mejora = 0\n",
    "        else:\n",
    "            iteraciones_sin_mejora += 1\n",
    "\n",
    "        resultados.append((solucion_actual.copy(), len(solucion_actual), rendimiento_actual))\n",
    "\n",
    "        # Evaluar condición de parada\n",
    "        if iteraciones_sin_mejora >= umbral:\n",
    "            break\n",
    "    \n",
    "    # Crear un DataFrame con los resultados\n",
    "    df_resultados = pd.DataFrame(resultados, columns=['MejorSolucionTemporal', 'Tamaño', 'Rendimiento'])\n",
    "\n",
    "    # Filtrar para que solo quede el mejor rendimiento por cada tamaño de conjunto\n",
    "    df_resultados = df_resultados.sort_values(by=['Tamaño', 'Rendimiento'], ascending=[True, False])\n",
    "    df_resultados = df_resultados.drop_duplicates(subset=['Tamaño'], keep='first')\n",
    "    \n",
    "    # Devolver los resultados en forma de DataFrame\n",
    "    return df_resultados.sort_values(by=['Rendimiento'], ascending=False)"
   ]
  },
  {
   "cell_type": "markdown",
   "id": "1ddd744f-155c-41cb-a616-9da26dc02419",
   "metadata": {},
   "source": [
    "***"
   ]
  },
  {
   "cell_type": "markdown",
   "id": "8fde109e-bbfd-4744-afb1-53f79b7b9f31",
   "metadata": {},
   "source": [
    "## Pruebas y experimentos"
   ]
  },
  {
   "cell_type": "markdown",
   "id": "d6d7b5a2-91be-4d25-b1d8-828a9e82c8ee",
   "metadata": {},
   "source": [
    "Para llevar a cabo las pruebas de los algoritmos y realizar experimentos, emplearemos varios conjuntos de datos suministrados por la propuesta de trabajo, los cuales ya están preprocesados.\n",
    "\n",
    "Haremos uso de la librería Pandas, que nos permitirá tarbajar con los datos a través de DataFrames, los cuales servirán como base de información para los algoritmos que evaluaremos.\n",
    "\n",
    "Inicialmente, cargaremos el conjunto de datos de los pasajeros del Titanic. Posteriormente, procederemos a importar el conjunto de datos relacionado con el cáncer de mama.\n"
   ]
  },
  {
   "cell_type": "code",
   "execution_count": 52,
   "id": "c48581e8-897c-4711-bba1-e52d995079d9",
   "metadata": {},
   "outputs": [],
   "source": [
    "## lecturas de los 2 ficheros\n",
    "def lectura_titanic():\n",
    "    fichero = pd.read_csv('titanic.csv')    \n",
    "    return fichero\n",
    "\n",
    "def lectura_breastCancer():\n",
    "    fichero = pd.read_csv('BreastCancer.csv')\n",
    "    return fichero\n",
    "\n",
    "titanic = lectura_titanic()\n",
    "breast_cancer = lectura_breastCancer()"
   ]
  },
  {
   "cell_type": "code",
   "execution_count": null,
   "id": "f1c3266b-2c80-43e3-b96e-6ad1cd6f54d6",
   "metadata": {},
   "outputs": [],
   "source": [
    "# Tratamiento de los datos\n",
    "# Eleccion de semilla inicial aleatoria.\n",
    "np.random.seed(357823)\n",
    "\n",
    "# Atributos discretos, continuos y objetivo de titanic.csv.\n",
    "atributos_discretos_titanic = ['Sex', 'Embarked', 'Alone', 'Deck']\n",
    "atributos_continuos_titanic = ['Pclass', 'Age', 'SibSp', 'Parch', 'Fare', 'Initial', \n",
    "                           'Age_band', 'Family_Size', 'Fare_cat', 'Title', 'Is_Married']\n",
    "atributos_titanic = titanic.loc[:, atributos_discretos_titanic + atributos_continuos_titanic]\n",
    "objetivo_titanic = titanic['Survived']\n",
    "\n",
    "# Codificación de atributos discretos y objetivo \n",
    "codificador_atributos_discretos_titanic = OrdinalEncoder() \n",
    "atributos_titanic[atributos_discretos_titanic] = codificador_atributos_discretos_titanic.fit_transform(atributos_titanic[atributos_discretos_titanic])\n",
    "codificador_objetivo_titanic = LabelEncoder() \n",
    "objetivo_titanic = codificador_objetivo_titanic.fit_transform(objetivo_titanic)\n",
    "\n",
    "# Atributos discretos, continuos y objetivo de BreastCancer.csv.\n",
    "atributos_continuos_breast_cancer = ['mean radius', 'mean texture', 'mean perimeter', 'mean area', 'mean smoothness', 'mean compactness', \n",
    "                           'mean concavity', 'mean concave points', 'mean symmetry', 'mean fractal dimension', 'radius error', \n",
    "                           'texture error', 'perimeter error', 'area error', 'smoothness error', 'compactness error', 'concavity error',\n",
    "                           'concave points error', 'symmetry error', 'fractal dimension error', 'worst radius', 'worst texture', \n",
    "                           'worst perimeter', 'worst area', 'worst smoothness', 'worst compactness', 'worst concavity', 'worst concave points',\n",
    "                           'worst symmetry', 'worst fractal dimension']\n",
    "\t\t\t\t\t\t\t\t\t\t\t\t\t\t\t\t\t\t\t\t\n",
    "atributos_breast_cancer = breast_cancer.loc[:, atributos_continuos_breast_cancer]\n",
    "objetivo_breast_cancer = breast_cancer['diagnosis']\n",
    "\n",
    "# Codificación de atributos discretos y objetivo\n",
    "codificador_objetivo_breast = LabelEncoder()\n",
    "objetivo_breast_cancer = codificador_objetivo_breast.fit_transform(objetivo_breast_cancer)"
   ]
  },
  {
   "cell_type": "markdown",
   "id": "adc1d287-b00d-4498-88c0-6499363faf10",
   "metadata": {},
   "source": [
    "### Pruebas básicas sobre los conjuntos de datos"
   ]
  },
  {
   "cell_type": "markdown",
   "id": "58567c36-79cf-4dd2-bda6-ae75e989ef4b",
   "metadata": {},
   "source": [
    "Ejecutamos una estimación sobre los conjuntos de datos para comprobar su funcionamiento previo."
   ]
  },
  {
   "cell_type": "markdown",
   "id": "d11e3b16-e88c-4139-94c5-8bd85ed311dd",
   "metadata": {},
   "source": [
    "#### Conjunto de datos Titanic.csv"
   ]
  },
  {
   "cell_type": "markdown",
   "id": "3982682e-f00c-4a52-9e3a-a960f8991a1e",
   "metadata": {},
   "source": [
    "Primero probaremos el conjunto de caractterísticas completo, para  después ir reduciendo el número de características y comprobar sus resultados."
   ]
  },
  {
   "cell_type": "code",
   "execution_count": null,
   "id": "05cfb27b-ea7e-4ee2-9497-975dee18658a",
   "metadata": {},
   "outputs": [],
   "source": [
    "# comprobar con todas las carac"
   ]
  },
  {
   "cell_type": "code",
   "execution_count": 45,
   "id": "3e51e7a5-a9c9-4b34-8228-656ccb0b5793",
   "metadata": {},
   "outputs": [],
   "source": [
    "# comprobar con 4 las carac"
   ]
  },
  {
   "cell_type": "code",
   "execution_count": null,
   "id": "6958582f-77ea-42d5-b781-a4bf49f0684d",
   "metadata": {},
   "outputs": [],
   "source": [
    "# comprobar con 1  carac"
   ]
  },
  {
   "cell_type": "code",
   "execution_count": null,
   "id": "c222be60-a8d8-4736-b859-b572e32332e1",
   "metadata": {},
   "outputs": [],
   "source": []
  },
  {
   "cell_type": "markdown",
   "id": "beb16279-02d6-440d-b8f7-6027af2996fc",
   "metadata": {},
   "source": [
    "#### Conjunto de datos BreastCancer.csv"
   ]
  },
  {
   "cell_type": "markdown",
   "id": "81704fec-2131-40d7-aa89-52d801665cb8",
   "metadata": {},
   "source": [
    "Actuamos de igual forma, primero probamos con todas las características y vamos reduciento el número de las mismas para probar sus resultados."
   ]
  },
  {
   "cell_type": "code",
   "execution_count": null,
   "id": "d20343df-00be-4589-abc4-eab751806321",
   "metadata": {},
   "outputs": [],
   "source": [
    "# comprobar con todas las carac"
   ]
  },
  {
   "cell_type": "code",
   "execution_count": null,
   "id": "1aca30e8-a342-4ed1-8e5b-34b91a4eadab",
   "metadata": {},
   "outputs": [],
   "source": [
    "# comprobar con 4 las carac"
   ]
  },
  {
   "cell_type": "code",
   "execution_count": null,
   "id": "53a164dd-466e-4b30-be47-d6ce4441f6ff",
   "metadata": {},
   "outputs": [],
   "source": [
    "# comprobar con 1  carac"
   ]
  },
  {
   "cell_type": "markdown",
   "id": "313d3dc0-1d4b-4421-9900-dc201f795fcd",
   "metadata": {},
   "source": [
    "(escribir alguna conclusion de las prubas)"
   ]
  },
  {
   "cell_type": "markdown",
   "id": "b813b0b6-69f5-486f-92c8-6be78fb9b947",
   "metadata": {},
   "source": [
    "### Pruebas Búsqueda secuencial hacia atrás"
   ]
  },
  {
   "cell_type": "markdown",
   "id": "70459841-b0da-4e33-962b-4d3c4a29cc1f",
   "metadata": {},
   "source": [
    "Ejecutamos el algoritmo de búsqueda secuencial hacia atrás sobre los distintos conjuntos de datos."
   ]
  },
  {
   "cell_type": "markdown",
   "id": "6a3358a1-da7e-43d4-a16b-3cbc9c94a7fb",
   "metadata": {},
   "source": [
    "#### Conjunto de datos Titanic.csv"
   ]
  },
  {
   "cell_type": "code",
   "execution_count": null,
   "id": "dab3a4d0-489b-42ef-ac7d-01d74b82cacc",
   "metadata": {},
   "outputs": [],
   "source": [
    "# llamar funcion"
   ]
  },
  {
   "cell_type": "markdown",
   "id": "60a772a7-5aae-4290-9976-69e3c374e3cc",
   "metadata": {},
   "source": [
    "poner conclusiones"
   ]
  },
  {
   "cell_type": "markdown",
   "id": "c23673fc-7e80-4633-9871-2fa37cd897fa",
   "metadata": {},
   "source": [
    "#### Conjunto de datos BreastCancer.csv"
   ]
  },
  {
   "cell_type": "code",
   "execution_count": null,
   "id": "2faef608",
   "metadata": {},
   "outputs": [],
   "source": [
    "# llamar funcion"
   ]
  },
  {
   "cell_type": "markdown",
   "id": "703979ef-c04c-4e1d-b3e8-006e82e5f6e4",
   "metadata": {},
   "source": [
    "poner conclusiones"
   ]
  },
  {
   "cell_type": "markdown",
   "id": "64433075-d735-4783-a068-5eadd04ff67d",
   "metadata": {},
   "source": [
    "### Pruebas Búsqueda secuencial hacia atrás mixta"
   ]
  },
  {
   "cell_type": "markdown",
   "id": "ca5817be-83ba-4c53-a487-2ea4d7f71a9f",
   "metadata": {},
   "source": [
    "De forma analoga esta vez procedemos utilizando el algoritmo de búsqueda secuencial hacia atrás mixta sobre los conjuntos de datos."
   ]
  },
  {
   "cell_type": "markdown",
   "id": "3a9ee2b1-253d-4a7c-9c72-c98054e6c240",
   "metadata": {},
   "source": [
    "#### Conjunto de datos Titanic.csv"
   ]
  },
  {
   "cell_type": "code",
   "execution_count": null,
   "id": "5f82855e-5135-4c00-afb5-b06319ec4c06",
   "metadata": {},
   "outputs": [],
   "source": [
    "# llamaar funcion"
   ]
  },
  {
   "cell_type": "markdown",
   "id": "e8a81d71-c5e7-41af-bdb9-5a50b278f8d5",
   "metadata": {},
   "source": [
    "conclusiones"
   ]
  },
  {
   "cell_type": "markdown",
   "id": "2f21c097-11c0-4cbe-851d-eeb70f0c9d7b",
   "metadata": {},
   "source": [
    "#### Conjunto de datos BreastCancer.csv"
   ]
  },
  {
   "cell_type": "code",
   "execution_count": null,
   "id": "eb4c1a93",
   "metadata": {},
   "outputs": [],
   "source": [
    "# llamaar funcion"
   ]
  },
  {
   "cell_type": "markdown",
   "id": "1a655730-5691-4a5c-9094-38156bb94c83",
   "metadata": {},
   "source": [
    "conclusiones"
   ]
  }
 ],
 "metadata": {
  "kernelspec": {
   "display_name": "Python 3 (ipykernel)",
   "language": "python",
   "name": "python3"
  },
  "language_info": {
   "codemirror_mode": {
    "name": "ipython",
    "version": 3
   },
   "file_extension": ".py",
   "mimetype": "text/x-python",
   "name": "python",
   "nbconvert_exporter": "python",
   "pygments_lexer": "ipython3",
   "version": "3.11.7"
  }
 },
 "nbformat": 4,
 "nbformat_minor": 5
}
