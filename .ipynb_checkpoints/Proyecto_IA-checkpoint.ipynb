{
 "cells": [
  {
   "cell_type": "markdown",
   "id": "0149a1d7-4b3c-46ec-8295-6291bb2b4961",
   "metadata": {},
   "source": [
    "# PROYECTO DE INTELIGENCIA ARTIFICIAL: Seleccion de características"
   ]
  },
  {
   "cell_type": "markdown",
   "id": "71bf0521-dc98-4820-b9ca-e5abb6479f47",
   "metadata": {},
   "source": [
    "Las siguientes funciones se encargan de obtener los atributos con los que trabajaremos, ademas de obtener los atributos ordenados y los objetivos para ambos csv."
   ]
  },
  {
   "cell_type": "markdown",
   "id": "d05e4735-672b-499f-a748-c57b743ca78c",
   "metadata": {},
   "source": [
    "Importaciones:"
   ]
  },
  {
   "cell_type": "code",
   "execution_count": 38,
   "id": "36d0b982-74f6-4a59-92e0-1d054cb462f5",
   "metadata": {},
   "outputs": [],
   "source": [
    "import pandas as pd\n",
    "import numpy as np\n",
    "from sklearn.preprocessing import OrdinalEncoder, LabelEncoder"
   ]
  },
  {
   "cell_type": "code",
   "execution_count": 39,
   "id": "e23f377d-4236-492d-bbb7-54f005754524",
   "metadata": {},
   "outputs": [],
   "source": [
    "def lectura_titanic():\n",
    "    fichero = pd.read_csv('Desktop/ia/Inteligencia-artificial/titanic.csv', na_values=-1)    \n",
    "    return fichero\n",
    "\n",
    "def lectura_breastCancer():\n",
    "    fichero = pd.read_csv('Desktop/ia/Inteligencia-artificial/BreastCancer.csv', na_values=-1)\n",
    "    return fichero"
   ]
  },
  {
   "cell_type": "code",
   "execution_count": 40,
   "id": "dd7a621b-b32c-45cd-9b48-9be7e744638b",
   "metadata": {},
   "outputs": [],
   "source": [
    "titanic = lectura_titanic()\n",
    "breast_cancer = lectura_breastCancer()"
   ]
  },
  {
   "cell_type": "code",
   "execution_count": 42,
   "id": "ab5cf9ed-3395-4ced-897a-057d6431bc1b",
   "metadata": {},
   "outputs": [],
   "source": [
    "# Eleccion de semilla inicial aleatoria.\n",
    "np.random.seed(357823)\n",
    "\n",
    "# Atributos discretos, continuos y objetivo de titanic.csv.\n",
    "atributos_discretos_titanic = ['Sex', 'Embarked', 'Alone', 'Deck']\n",
    "atributos_continuos_titanic = ['Pclass', 'Age', 'SibSp', 'Parch', 'Fare', 'Initial', \n",
    "                           'Age_band', 'Family_Size', 'Fare_cat', 'Title', 'Is_Married']\n",
    "atributos_titanic = titanic.loc[:, atributos_discretos_titanic + atributos_continuos_titanic]\n",
    "objetivo_titanic = titanic['Survived']\n",
    "\n",
    "# Atributos discretos, continuos y objetivo de BreastCancer.csv.\n",
    "atributos_continuos_breast_cancer = ['mean radius', 'mean texture', 'mean perimeter', 'mean area', 'mean smoothness', 'mean compactness', \n",
    "                           'mean concavity', 'mean concave points', 'mean symmetry', 'mean fractal dimension', 'radius error', \n",
    "                           'texture error', 'perimeter error', 'area error', 'smoothness error', 'compactness error', 'concavity error',\n",
    "                           'concave points error', 'symmetry error', 'fractal dimension error', 'worst radius', 'worst texture', \n",
    "                           'worst perimeter', 'worst area', 'worst smoothness', 'worst compactness', 'worst concavity', 'worst concave points',\n",
    "                           'worst symmetry', 'worst fractal dimension']\n",
    "\t\t\t\t\t\t\t\t\t\t\t\t\t\t\t\t\t\t\t\t\n",
    "atributos_breast_cancer = breast_cancer.loc[:, atributos_continuos_breast_cancer]\n",
    "objetivo_breast_cancer = breast_cancer['diagnosis']"
   ]
  },
  {
   "cell_type": "markdown",
   "id": "5f647224-06ea-4524-9ec6-b266c4685597",
   "metadata": {
    "jp-MarkdownHeadingCollapsed": true
   },
   "source": [
    "##### A continuación realizaremos los algoritmos de busqueda con los que vamos a trabajar. Para ello, trabajaremos con el algoritmo de \"Decision tree clasifier\" y el algoritmo de \"Naives bayes\"."
   ]
  },
  {
   "cell_type": "markdown",
   "id": "dc75d4d7-f407-4d1e-87ad-0ec46cbded3e",
   "metadata": {},
   "source": [
    "#### Trabajo con titanic.csv"
   ]
  },
  {
   "cell_type": "code",
   "execution_count": 43,
   "id": "74c27d34-8a0c-432c-a3d8-12478023c34b",
   "metadata": {},
   "outputs": [
    {
     "data": {
      "text/html": [
       "<style>#sk-container-id-1 {color: black;background-color: white;}#sk-container-id-1 pre{padding: 0;}#sk-container-id-1 div.sk-toggleable {background-color: white;}#sk-container-id-1 label.sk-toggleable__label {cursor: pointer;display: block;width: 100%;margin-bottom: 0;padding: 0.3em;box-sizing: border-box;text-align: center;}#sk-container-id-1 label.sk-toggleable__label-arrow:before {content: \"▸\";float: left;margin-right: 0.25em;color: #696969;}#sk-container-id-1 label.sk-toggleable__label-arrow:hover:before {color: black;}#sk-container-id-1 div.sk-estimator:hover label.sk-toggleable__label-arrow:before {color: black;}#sk-container-id-1 div.sk-toggleable__content {max-height: 0;max-width: 0;overflow: hidden;text-align: left;background-color: #f0f8ff;}#sk-container-id-1 div.sk-toggleable__content pre {margin: 0.2em;color: black;border-radius: 0.25em;background-color: #f0f8ff;}#sk-container-id-1 input.sk-toggleable__control:checked~div.sk-toggleable__content {max-height: 200px;max-width: 100%;overflow: auto;}#sk-container-id-1 input.sk-toggleable__control:checked~label.sk-toggleable__label-arrow:before {content: \"▾\";}#sk-container-id-1 div.sk-estimator input.sk-toggleable__control:checked~label.sk-toggleable__label {background-color: #d4ebff;}#sk-container-id-1 div.sk-label input.sk-toggleable__control:checked~label.sk-toggleable__label {background-color: #d4ebff;}#sk-container-id-1 input.sk-hidden--visually {border: 0;clip: rect(1px 1px 1px 1px);clip: rect(1px, 1px, 1px, 1px);height: 1px;margin: -1px;overflow: hidden;padding: 0;position: absolute;width: 1px;}#sk-container-id-1 div.sk-estimator {font-family: monospace;background-color: #f0f8ff;border: 1px dotted black;border-radius: 0.25em;box-sizing: border-box;margin-bottom: 0.5em;}#sk-container-id-1 div.sk-estimator:hover {background-color: #d4ebff;}#sk-container-id-1 div.sk-parallel-item::after {content: \"\";width: 100%;border-bottom: 1px solid gray;flex-grow: 1;}#sk-container-id-1 div.sk-label:hover label.sk-toggleable__label {background-color: #d4ebff;}#sk-container-id-1 div.sk-serial::before {content: \"\";position: absolute;border-left: 1px solid gray;box-sizing: border-box;top: 0;bottom: 0;left: 50%;z-index: 0;}#sk-container-id-1 div.sk-serial {display: flex;flex-direction: column;align-items: center;background-color: white;padding-right: 0.2em;padding-left: 0.2em;position: relative;}#sk-container-id-1 div.sk-item {position: relative;z-index: 1;}#sk-container-id-1 div.sk-parallel {display: flex;align-items: stretch;justify-content: center;background-color: white;position: relative;}#sk-container-id-1 div.sk-item::before, #sk-container-id-1 div.sk-parallel-item::before {content: \"\";position: absolute;border-left: 1px solid gray;box-sizing: border-box;top: 0;bottom: 0;left: 50%;z-index: -1;}#sk-container-id-1 div.sk-parallel-item {display: flex;flex-direction: column;z-index: 1;position: relative;background-color: white;}#sk-container-id-1 div.sk-parallel-item:first-child::after {align-self: flex-end;width: 50%;}#sk-container-id-1 div.sk-parallel-item:last-child::after {align-self: flex-start;width: 50%;}#sk-container-id-1 div.sk-parallel-item:only-child::after {width: 0;}#sk-container-id-1 div.sk-dashed-wrapped {border: 1px dashed gray;margin: 0 0.4em 0.5em 0.4em;box-sizing: border-box;padding-bottom: 0.4em;background-color: white;}#sk-container-id-1 div.sk-label label {font-family: monospace;font-weight: bold;display: inline-block;line-height: 1.2em;}#sk-container-id-1 div.sk-label-container {text-align: center;}#sk-container-id-1 div.sk-container {/* jupyter's `normalize.less` sets `[hidden] { display: none; }` but bootstrap.min.css set `[hidden] { display: none !important; }` so we also need the `!important` here to be able to override the default hidden behavior on the sphinx rendered scikit-learn.org. See: https://github.com/scikit-learn/scikit-learn/issues/21755 */display: inline-block !important;position: relative;}#sk-container-id-1 div.sk-text-repr-fallback {display: none;}</style><div id=\"sk-container-id-1\" class=\"sk-top-container\"><div class=\"sk-text-repr-fallback\"><pre>OrdinalEncoder()</pre><b>In a Jupyter environment, please rerun this cell to show the HTML representation or trust the notebook. <br />On GitHub, the HTML representation is unable to render, please try loading this page with nbviewer.org.</b></div><div class=\"sk-container\" hidden><div class=\"sk-item\"><div class=\"sk-estimator sk-toggleable\"><input class=\"sk-toggleable__control sk-hidden--visually\" id=\"sk-estimator-id-1\" type=\"checkbox\" checked><label for=\"sk-estimator-id-1\" class=\"sk-toggleable__label sk-toggleable__label-arrow\">OrdinalEncoder</label><div class=\"sk-toggleable__content\"><pre>OrdinalEncoder()</pre></div></div></div></div></div>"
      ],
      "text/plain": [
       "OrdinalEncoder()"
      ]
     },
     "execution_count": 43,
     "metadata": {},
     "output_type": "execute_result"
    }
   ],
   "source": [
    "# DECISION TREE CLASIFIER\n",
    "codificador_atributos_discretos_titanic = OrdinalEncoder()\n",
    "codificador_atributos_discretos_titanic.fit(atributos_titanic[atributos_discretos_titanic])"
   ]
  },
  {
   "cell_type": "markdown",
   "id": "35b5279f-e7de-4482-b5ab-6a72d7289b35",
   "metadata": {},
   "source": [
    "Comprobamos que realmente sean los atributos seleccionados discretos."
   ]
  },
  {
   "cell_type": "code",
   "execution_count": 45,
   "id": "99bb72f2-0794-4e25-9705-4c5ed4c91a46",
   "metadata": {},
   "outputs": [
    {
     "name": "stdout",
     "output_type": "stream",
     "text": [
      "Número de atributos detectados: 4\n",
      "\n",
      "Nombres de los atributos detectados:\n",
      "['Sex' 'Embarked' 'Alone' 'Deck']\n",
      "\n",
      "Categorías detectadas de cada atributo:\n",
      "Sex: ['female' 'male']\n",
      "Embarked: ['C' 'Q' 'S']\n",
      "Alone: ['No' 'Yes']\n",
      "Deck: ['A' 'B' 'C' 'D' 'E' 'F' 'G' 'T' 'U']\n"
     ]
    }
   ],
   "source": [
    "print('Número de atributos detectados:',\n",
    "      f'{codificador_atributos_discretos_titanic.n_features_in_}')\n",
    "print()\n",
    "print('Nombres de los atributos detectados:')\n",
    "print(f'{codificador_atributos_discretos_titanic.feature_names_in_}')\n",
    "print()\n",
    "print('Categorías detectadas de cada atributo:')\n",
    "for atributo, categorías in zip(\n",
    "    codificador_atributos_discretos_titanic.feature_names_in_,\n",
    "    codificador_atributos_discretos_titanic.categories_):\n",
    "    print(f'{atributo}: {categorías}')"
   ]
  },
  {
   "cell_type": "markdown",
   "id": "f7f9eae4-399b-4b9c-be42-426307c85b41",
   "metadata": {},
   "source": [
    "Segidamente, transformamos los atributos discretos en datos continuos."
   ]
  },
  {
   "cell_type": "code",
   "execution_count": 46,
   "id": "97571647-291c-4b1c-89c6-d932f37f7675",
   "metadata": {},
   "outputs": [
    {
     "data": {
      "text/html": [
       "<div>\n",
       "<style scoped>\n",
       "    .dataframe tbody tr th:only-of-type {\n",
       "        vertical-align: middle;\n",
       "    }\n",
       "\n",
       "    .dataframe tbody tr th {\n",
       "        vertical-align: top;\n",
       "    }\n",
       "\n",
       "    .dataframe thead th {\n",
       "        text-align: right;\n",
       "    }\n",
       "</style>\n",
       "<table border=\"1\" class=\"dataframe\">\n",
       "  <thead>\n",
       "    <tr style=\"text-align: right;\">\n",
       "      <th></th>\n",
       "      <th>Sex</th>\n",
       "      <th>Embarked</th>\n",
       "      <th>Alone</th>\n",
       "      <th>Deck</th>\n",
       "      <th>Pclass</th>\n",
       "      <th>Age</th>\n",
       "      <th>SibSp</th>\n",
       "      <th>Parch</th>\n",
       "      <th>Fare</th>\n",
       "      <th>Initial</th>\n",
       "      <th>Age_band</th>\n",
       "      <th>Family_Size</th>\n",
       "      <th>Fare_cat</th>\n",
       "      <th>Title</th>\n",
       "      <th>Is_Married</th>\n",
       "    </tr>\n",
       "  </thead>\n",
       "  <tbody>\n",
       "    <tr>\n",
       "      <th>0</th>\n",
       "      <td>1.0</td>\n",
       "      <td>2.0</td>\n",
       "      <td>0.0</td>\n",
       "      <td>8.0</td>\n",
       "      <td>3</td>\n",
       "      <td>22.0</td>\n",
       "      <td>1</td>\n",
       "      <td>0</td>\n",
       "      <td>7.2500</td>\n",
       "      <td>0</td>\n",
       "      <td>1</td>\n",
       "      <td>1</td>\n",
       "      <td>0</td>\n",
       "      <td>11</td>\n",
       "      <td>0</td>\n",
       "    </tr>\n",
       "    <tr>\n",
       "      <th>1</th>\n",
       "      <td>0.0</td>\n",
       "      <td>0.0</td>\n",
       "      <td>0.0</td>\n",
       "      <td>2.0</td>\n",
       "      <td>1</td>\n",
       "      <td>38.0</td>\n",
       "      <td>1</td>\n",
       "      <td>0</td>\n",
       "      <td>71.2833</td>\n",
       "      <td>1</td>\n",
       "      <td>2</td>\n",
       "      <td>1</td>\n",
       "      <td>3</td>\n",
       "      <td>12</td>\n",
       "      <td>1</td>\n",
       "    </tr>\n",
       "    <tr>\n",
       "      <th>2</th>\n",
       "      <td>0.0</td>\n",
       "      <td>2.0</td>\n",
       "      <td>1.0</td>\n",
       "      <td>8.0</td>\n",
       "      <td>3</td>\n",
       "      <td>26.0</td>\n",
       "      <td>0</td>\n",
       "      <td>0</td>\n",
       "      <td>7.9250</td>\n",
       "      <td>2</td>\n",
       "      <td>1</td>\n",
       "      <td>0</td>\n",
       "      <td>1</td>\n",
       "      <td>8</td>\n",
       "      <td>0</td>\n",
       "    </tr>\n",
       "    <tr>\n",
       "      <th>3</th>\n",
       "      <td>0.0</td>\n",
       "      <td>2.0</td>\n",
       "      <td>0.0</td>\n",
       "      <td>2.0</td>\n",
       "      <td>1</td>\n",
       "      <td>35.0</td>\n",
       "      <td>1</td>\n",
       "      <td>0</td>\n",
       "      <td>53.1000</td>\n",
       "      <td>1</td>\n",
       "      <td>2</td>\n",
       "      <td>1</td>\n",
       "      <td>3</td>\n",
       "      <td>12</td>\n",
       "      <td>1</td>\n",
       "    </tr>\n",
       "    <tr>\n",
       "      <th>4</th>\n",
       "      <td>1.0</td>\n",
       "      <td>2.0</td>\n",
       "      <td>1.0</td>\n",
       "      <td>8.0</td>\n",
       "      <td>3</td>\n",
       "      <td>35.0</td>\n",
       "      <td>0</td>\n",
       "      <td>0</td>\n",
       "      <td>8.0500</td>\n",
       "      <td>0</td>\n",
       "      <td>2</td>\n",
       "      <td>0</td>\n",
       "      <td>1</td>\n",
       "      <td>11</td>\n",
       "      <td>0</td>\n",
       "    </tr>\n",
       "  </tbody>\n",
       "</table>\n",
       "</div>"
      ],
      "text/plain": [
       "   Sex  Embarked  Alone  Deck  Pclass   Age  SibSp  Parch     Fare  Initial  \\\n",
       "0  1.0       2.0    0.0   8.0       3  22.0      1      0   7.2500        0   \n",
       "1  0.0       0.0    0.0   2.0       1  38.0      1      0  71.2833        1   \n",
       "2  0.0       2.0    1.0   8.0       3  26.0      0      0   7.9250        2   \n",
       "3  0.0       2.0    0.0   2.0       1  35.0      1      0  53.1000        1   \n",
       "4  1.0       2.0    1.0   8.0       3  35.0      0      0   8.0500        0   \n",
       "\n",
       "   Age_band  Family_Size  Fare_cat  Title  Is_Married  \n",
       "0         1            1         0     11           0  \n",
       "1         2            1         3     12           1  \n",
       "2         1            0         1      8           0  \n",
       "3         2            1         3     12           1  \n",
       "4         2            0         1     11           0  "
      ]
     },
     "execution_count": 46,
     "metadata": {},
     "output_type": "execute_result"
    }
   ],
   "source": [
    "atributos_titanic[atributos_discretos_titanic] = codificador_atributos_discretos_titanic.transform(\n",
    "    atributos_titanic[atributos_discretos_titanic]\n",
    ")\n",
    "atributos_titanic.head()"
   ]
  },
  {
   "cell_type": "markdown",
   "id": "5de99016-a593-4644-a4c5-e4413e85e3f1",
   "metadata": {},
   "source": []
  },
  {
   "cell_type": "code",
   "execution_count": null,
   "id": "a47d5434-97c1-49d2-acea-5ad1ce357801",
   "metadata": {},
   "outputs": [],
   "source": [
    "codificador_objetivo_titanic = LabelEncoder()\n",
    "objetivo_titanic = codificador_objetivo_titanic.fit_transform(objetivo)\n",
    "print(f'Clases detectadas: {codificador_objetivo_titanic.classes_}')\n",
    "objetivo_titanic"
   ]
  }
 ],
 "metadata": {
  "kernelspec": {
   "display_name": "Python 3 (ipykernel)",
   "language": "python",
   "name": "python3"
  },
  "language_info": {
   "codemirror_mode": {
    "name": "ipython",
    "version": 3
   },
   "file_extension": ".py",
   "mimetype": "text/x-python",
   "name": "python",
   "nbconvert_exporter": "python",
   "pygments_lexer": "ipython3",
   "version": "3.11.7"
  }
 },
 "nbformat": 4,
 "nbformat_minor": 5
}
