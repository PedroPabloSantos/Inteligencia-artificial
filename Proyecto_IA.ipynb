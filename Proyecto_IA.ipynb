{
 "cells": [
  {
   "cell_type": "markdown",
   "id": "0149a1d7-4b3c-46ec-8295-6291bb2b4961",
   "metadata": {},
   "source": [
    "## PROYECTO DE INTELIGENCIA ARTIFICIAL: Seleccion de características"
   ]
  },
  {
   "cell_type": "markdown",
   "id": "71bf0521-dc98-4820-b9ca-e5abb6479f47",
   "metadata": {},
   "source": [
    "Las siguientes funciones se encargan de obtener los atributos con los que trabajaremos, ademas de obtener los atributos ordenados y los objetivos para ambos csv."
   ]
  },
  {
   "cell_type": "code",
   "execution_count": 28,
   "id": "e23f377d-4236-492d-bbb7-54f005754524",
   "metadata": {},
   "outputs": [],
   "source": [
    "import pandas as pd\n",
    "\n",
    "def lectura_titanic():\n",
    "    fichero = pd.read_csv('Desktop/ia/Inteligencia-artificial/titanic.csv', na_values=-1)    \n",
    "    return fichero\n",
    "\n",
    "def lectura_titanic_separado():\n",
    "    fichero = pd.read_csv('Desktop/ia/Inteligencia-artificial/titanic.csv', na_values=-1)\n",
    "    atributos_discretos = ['Sex', 'Embarked', 'Alone', 'Deck']\n",
    "    atributos_continuos = ['Pclass', 'Age', 'SibSp', 'Parch', 'Fare', 'Initial', \n",
    "                           'Age_band', 'Family_Size', 'Fare_cat', 'Title', 'Is_Married']\n",
    "    atributos = fichero.loc[:, atributos_discretos + atributos_continuos]\n",
    "    objetivo = fichero['Survived']\n",
    "    return atributos, objetivo\n",
    "\n",
    "\n",
    "def lectura_breastCancer():\n",
    "    fichero = pd.read_csv('Desktop/ia/Inteligencia-artificial/BreastCancer.csv', na_values=-1)\n",
    "    return fichero\n",
    "\n",
    "def lectura_breastCancer_separado():\n",
    "    fichero = pd.read_csv('Desktop/ia/Inteligencia-artificial/BreastCancer.csv', na_values=-1)\n",
    "    atributos_continuos = ['mean radius', 'mean texture', 'mean perimeter', 'mean area', 'mean smoothness', 'mean compactness', \n",
    "                           'mean concavity', 'mean concave points', 'mean symmetry', 'mean fractal dimension', 'radius error', \n",
    "                           'texture error', 'perimeter error', 'area error', 'smoothness error', 'compactness error', 'concavity error',\n",
    "                           'concave points error', 'symmetry error', 'fractal dimension error', 'worst radius', 'worst texture', \n",
    "                           'worst perimeter', 'worst area', 'worst smoothness', 'worst compactness', 'worst concavity', 'worst concave points',\n",
    "                           'worst symmetry', 'worst fractal dimension']\n",
    "\t\t\t\t\t\t\t\t\t\t\t\t\t\t\t\t\t\t\t\t\n",
    "    atributos = fichero.loc[:, atributos_continuos]\n",
    "    objetivo = fichero['diagnosis']\n",
    "    return atributos, objetivo"
   ]
  },
  {
   "cell_type": "code",
   "execution_count": 29,
   "id": "7654301a-d866-4d30-9321-8c18f437e4de",
   "metadata": {},
   "outputs": [
    {
     "name": "stdout",
     "output_type": "stream",
     "text": [
      "0      0\n",
      "1      1\n",
      "2      1\n",
      "3      1\n",
      "4      0\n",
      "      ..\n",
      "886    0\n",
      "887    1\n",
      "888    0\n",
      "889    1\n",
      "890    0\n",
      "Name: Survived, Length: 891, dtype: int64\n"
     ]
    }
   ],
   "source": []
  },
  {
   "cell_type": "code",
   "execution_count": null,
   "id": "74c27d34-8a0c-432c-a3d8-12478023c34b",
   "metadata": {},
   "outputs": [],
   "source": []
  },
  {
   "cell_type": "code",
   "execution_count": null,
   "id": "99bb72f2-0794-4e25-9705-4c5ed4c91a46",
   "metadata": {},
   "outputs": [],
   "source": []
  },
  {
   "cell_type": "code",
   "execution_count": null,
   "id": "3796924d-b5e1-4d9b-b2e2-7a423fd90d41",
   "metadata": {},
   "outputs": [],
   "source": []
  }
 ],
 "metadata": {
  "kernelspec": {
   "display_name": "Python 3 (ipykernel)",
   "language": "python",
   "name": "python3"
  },
  "language_info": {
   "codemirror_mode": {
    "name": "ipython",
    "version": 3
   },
   "file_extension": ".py",
   "mimetype": "text/x-python",
   "name": "python",
   "nbconvert_exporter": "python",
   "pygments_lexer": "ipython3",
   "version": "3.11.7"
  }
 },
 "nbformat": 4,
 "nbformat_minor": 5
}
