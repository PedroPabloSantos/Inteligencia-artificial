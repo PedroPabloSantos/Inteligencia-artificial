{
 "cells": [
  {
   "cell_type": "markdown",
   "id": "0149a1d7-4b3c-46ec-8295-6291bb2b4961",
   "metadata": {},
   "source": [
    "# PROYECTO DE INTELIGENCIA ARTIFICIAL: Seleccion de características"
   ]
  },
  {
   "cell_type": "markdown",
   "id": "71bf0521-dc98-4820-b9ca-e5abb6479f47",
   "metadata": {},
   "source": [
    "Las siguientes funciones se encargan de obtener los atributos con los que trabajaremos, ademas de obtener los atributos ordenados y los objetivos para ambos csv."
   ]
  },
  {
   "cell_type": "markdown",
   "id": "d05e4735-672b-499f-a748-c57b743ca78c",
   "metadata": {},
   "source": [
    "Importaciones:"
   ]
  },
  {
   "cell_type": "code",
   "execution_count": 4,
   "id": "36d0b982-74f6-4a59-92e0-1d054cb462f5",
   "metadata": {},
   "outputs": [],
   "source": [
    "import pandas as pd\n",
    "\n",
    "import numpy as np\n",
    "\n",
    "from sklearn.preprocessing import OrdinalEncoder, LabelEncoder\n",
    "\n",
    "from sklearn.tree import DecisionTreeClassifier\n",
    "\n",
    "from matplotlib import pyplot\n",
    "from sklearn.tree import plot_tree\n",
    "from sklearn.metrics import confusion_matrix\n",
    "from sklearn.metrics import recall_score\n",
    "from sklearn.model_selection import cross_validate\n",
    "from sklearn.model_selection import train_test_split\n",
    "from sklearn.preprocessing import KBinsDiscretizer"
   ]
  },
  {
   "cell_type": "code",
   "execution_count": 5,
   "id": "e23f377d-4236-492d-bbb7-54f005754524",
   "metadata": {},
   "outputs": [],
   "source": [
    "def lectura_titanic():\n",
    "    fichero = pd.read_csv('titanic.csv')    \n",
    "    return fichero\n",
    "\n",
    "def lectura_breastCancer():\n",
    "    fichero = pd.read_csv('BreastCancer.csv')\n",
    "    return fichero"
   ]
  },
  {
   "cell_type": "code",
   "execution_count": 6,
   "id": "dd7a621b-b32c-45cd-9b48-9be7e744638b",
   "metadata": {},
   "outputs": [],
   "source": [
    "titanic = lectura_titanic()\n",
    "breast_cancer = lectura_breastCancer()"
   ]
  },
  {
   "cell_type": "code",
   "execution_count": 7,
   "id": "ab5cf9ed-3395-4ced-897a-057d6431bc1b",
   "metadata": {},
   "outputs": [],
   "source": [
    "# Eleccion de semilla inicial aleatoria.\n",
    "np.random.seed(357823)\n",
    "\n",
    "# Atributos discretos, continuos y objetivo de titanic.csv.\n",
    "atributos_discretos_titanic = ['Sex', 'Embarked', 'Alone', 'Deck']\n",
    "atributos_continuos_titanic = ['Pclass', 'Age', 'SibSp', 'Parch', 'Fare', 'Initial', \n",
    "                           'Age_band', 'Family_Size', 'Fare_cat', 'Title', 'Is_Married']\n",
    "atributos_titanic = titanic.loc[:, atributos_discretos_titanic + atributos_continuos_titanic]\n",
    "objetivo_titanic = titanic['Survived']\n",
    "\n",
    "# Atributos discretos, continuos y objetivo de BreastCancer.csv.\n",
    "atributos_continuos_breast_cancer = ['mean radius', 'mean texture', 'mean perimeter', 'mean area', 'mean smoothness', 'mean compactness', \n",
    "                           'mean concavity', 'mean concave points', 'mean symmetry', 'mean fractal dimension', 'radius error', \n",
    "                           'texture error', 'perimeter error', 'area error', 'smoothness error', 'compactness error', 'concavity error',\n",
    "                           'concave points error', 'symmetry error', 'fractal dimension error', 'worst radius', 'worst texture', \n",
    "                           'worst perimeter', 'worst area', 'worst smoothness', 'worst compactness', 'worst concavity', 'worst concave points',\n",
    "                           'worst symmetry', 'worst fractal dimension']\n",
    "\t\t\t\t\t\t\t\t\t\t\t\t\t\t\t\t\t\t\t\t\n",
    "atributos_breast_cancer = breast_cancer.loc[:, atributos_continuos_breast_cancer]\n",
    "objetivo_breast_cancer = breast_cancer['diagnosis']"
   ]
  },
  {
   "cell_type": "markdown",
   "id": "5f647224-06ea-4524-9ec6-b266c4685597",
   "metadata": {
    "jp-MarkdownHeadingCollapsed": true
   },
   "source": [
    "##### A continuación realizaremos los algoritmos de busqueda con los que vamos a trabajar. Para ello, trabajaremos con el algoritmo de \"Decision tree clasifier\" y el algoritmo de \"Naives bayes\"."
   ]
  },
  {
   "cell_type": "markdown",
   "id": "dc75d4d7-f407-4d1e-87ad-0ec46cbded3e",
   "metadata": {},
   "source": [
    "#### Decision tree clasifier"
   ]
  },
  {
   "cell_type": "code",
   "execution_count": 25,
   "id": "08d57e43-c043-4c06-b93d-3888e8b8b3fa",
   "metadata": {},
   "outputs": [],
   "source": [
    "def decision_tree(atributos, objetivo, atributos_discretos):\n",
    "    codificador_atributos_discretos = OrdinalEncoder()\n",
    "    codificador_atributos_discretos.fit(atributos[atributos_discretos])\n",
    "    \n",
    "    atributos[atributos_discretos] = codificador_atributos_discretos.transform(atributos[atributos_discretos])\n",
    "\n",
    "    codificador_objetivo = LabelEncoder()\n",
    "    objetivo = codificador_objetivo.fit_transform(objetivo)\n",
    "\n",
    "    clasificador_CART = DecisionTreeClassifier()\n",
    "    clasificador_CART.fit(atributos, objetivo)\n",
    "    \n",
    "    return clasificador_CART"
   ]
  },
  {
   "cell_type": "code",
   "execution_count": 26,
   "id": "74c27d34-8a0c-432c-a3d8-12478023c34b",
   "metadata": {},
   "outputs": [
    {
     "data": {
      "text/html": [
       "<style>#sk-container-id-2 {color: black;background-color: white;}#sk-container-id-2 pre{padding: 0;}#sk-container-id-2 div.sk-toggleable {background-color: white;}#sk-container-id-2 label.sk-toggleable__label {cursor: pointer;display: block;width: 100%;margin-bottom: 0;padding: 0.3em;box-sizing: border-box;text-align: center;}#sk-container-id-2 label.sk-toggleable__label-arrow:before {content: \"▸\";float: left;margin-right: 0.25em;color: #696969;}#sk-container-id-2 label.sk-toggleable__label-arrow:hover:before {color: black;}#sk-container-id-2 div.sk-estimator:hover label.sk-toggleable__label-arrow:before {color: black;}#sk-container-id-2 div.sk-toggleable__content {max-height: 0;max-width: 0;overflow: hidden;text-align: left;background-color: #f0f8ff;}#sk-container-id-2 div.sk-toggleable__content pre {margin: 0.2em;color: black;border-radius: 0.25em;background-color: #f0f8ff;}#sk-container-id-2 input.sk-toggleable__control:checked~div.sk-toggleable__content {max-height: 200px;max-width: 100%;overflow: auto;}#sk-container-id-2 input.sk-toggleable__control:checked~label.sk-toggleable__label-arrow:before {content: \"▾\";}#sk-container-id-2 div.sk-estimator input.sk-toggleable__control:checked~label.sk-toggleable__label {background-color: #d4ebff;}#sk-container-id-2 div.sk-label input.sk-toggleable__control:checked~label.sk-toggleable__label {background-color: #d4ebff;}#sk-container-id-2 input.sk-hidden--visually {border: 0;clip: rect(1px 1px 1px 1px);clip: rect(1px, 1px, 1px, 1px);height: 1px;margin: -1px;overflow: hidden;padding: 0;position: absolute;width: 1px;}#sk-container-id-2 div.sk-estimator {font-family: monospace;background-color: #f0f8ff;border: 1px dotted black;border-radius: 0.25em;box-sizing: border-box;margin-bottom: 0.5em;}#sk-container-id-2 div.sk-estimator:hover {background-color: #d4ebff;}#sk-container-id-2 div.sk-parallel-item::after {content: \"\";width: 100%;border-bottom: 1px solid gray;flex-grow: 1;}#sk-container-id-2 div.sk-label:hover label.sk-toggleable__label {background-color: #d4ebff;}#sk-container-id-2 div.sk-serial::before {content: \"\";position: absolute;border-left: 1px solid gray;box-sizing: border-box;top: 0;bottom: 0;left: 50%;z-index: 0;}#sk-container-id-2 div.sk-serial {display: flex;flex-direction: column;align-items: center;background-color: white;padding-right: 0.2em;padding-left: 0.2em;position: relative;}#sk-container-id-2 div.sk-item {position: relative;z-index: 1;}#sk-container-id-2 div.sk-parallel {display: flex;align-items: stretch;justify-content: center;background-color: white;position: relative;}#sk-container-id-2 div.sk-item::before, #sk-container-id-2 div.sk-parallel-item::before {content: \"\";position: absolute;border-left: 1px solid gray;box-sizing: border-box;top: 0;bottom: 0;left: 50%;z-index: -1;}#sk-container-id-2 div.sk-parallel-item {display: flex;flex-direction: column;z-index: 1;position: relative;background-color: white;}#sk-container-id-2 div.sk-parallel-item:first-child::after {align-self: flex-end;width: 50%;}#sk-container-id-2 div.sk-parallel-item:last-child::after {align-self: flex-start;width: 50%;}#sk-container-id-2 div.sk-parallel-item:only-child::after {width: 0;}#sk-container-id-2 div.sk-dashed-wrapped {border: 1px dashed gray;margin: 0 0.4em 0.5em 0.4em;box-sizing: border-box;padding-bottom: 0.4em;background-color: white;}#sk-container-id-2 div.sk-label label {font-family: monospace;font-weight: bold;display: inline-block;line-height: 1.2em;}#sk-container-id-2 div.sk-label-container {text-align: center;}#sk-container-id-2 div.sk-container {/* jupyter's `normalize.less` sets `[hidden] { display: none; }` but bootstrap.min.css set `[hidden] { display: none !important; }` so we also need the `!important` here to be able to override the default hidden behavior on the sphinx rendered scikit-learn.org. See: https://github.com/scikit-learn/scikit-learn/issues/21755 */display: inline-block !important;position: relative;}#sk-container-id-2 div.sk-text-repr-fallback {display: none;}</style><div id=\"sk-container-id-2\" class=\"sk-top-container\"><div class=\"sk-text-repr-fallback\"><pre>DecisionTreeClassifier()</pre><b>In a Jupyter environment, please rerun this cell to show the HTML representation or trust the notebook. <br />On GitHub, the HTML representation is unable to render, please try loading this page with nbviewer.org.</b></div><div class=\"sk-container\" hidden><div class=\"sk-item\"><div class=\"sk-estimator sk-toggleable\"><input class=\"sk-toggleable__control sk-hidden--visually\" id=\"sk-estimator-id-2\" type=\"checkbox\" checked><label for=\"sk-estimator-id-2\" class=\"sk-toggleable__label sk-toggleable__label-arrow\">DecisionTreeClassifier</label><div class=\"sk-toggleable__content\"><pre>DecisionTreeClassifier()</pre></div></div></div></div></div>"
      ],
      "text/plain": [
       "DecisionTreeClassifier()"
      ]
     },
     "execution_count": 26,
     "metadata": {},
     "output_type": "execute_result"
    }
   ],
   "source": [
    "# DECISION TREE CLASIFIER\n",
    "decision_tree(atributos_titanic, objetivo_titanic, atributos_discretos_titanic)"
   ]
  },
  {
   "cell_type": "markdown",
   "id": "91be2ee0-0597-4cd2-afa7-af689fdb124f",
   "metadata": {},
   "source": [
    "#### Funcion de rendimiento"
   ]
  },
  {
   "cell_type": "code",
   "execution_count": 27,
   "id": "44369881-b6e5-4a04-991c-966c9e10375b",
   "metadata": {},
   "outputs": [],
   "source": [
    "def rendimiento(atributos, objetivo, feature, atributos_discretos):\n",
    "    (atributos_entrenamiento, atributos_prueba,\n",
    "     objetivo_entrenamiento, objetivo_prueba) = train_test_split(\n",
    "        # Conjuntos de datos a dividir, usando los mismos índices para ambos\n",
    "        atributos, objetivo,\n",
    "        # Tamaño del conjunto de prueba (20 % en este caso)\n",
    "        test_size=.2,\n",
    "        # Estratificación según la distribución de clases en el atributo objetivo\n",
    "        stratify=objetivo)\n",
    "    tree = decision_tree(atributos, objetivo, atributos_discretos)\n",
    "    score = cross_validate(tree, atributos_entrenamiento[feature], objetivo_entrenamiento, cv = 7, scoring = 'balanced_accuracy')\n",
    "    return np.mean(score['test_score'])"
   ]
  },
  {
   "cell_type": "code",
   "execution_count": 28,
   "id": "1351bb9a-24bf-4c19-a665-be087a85a821",
   "metadata": {},
   "outputs": [
    {
     "data": {
      "text/plain": [
       "0.6464891994845912"
      ]
     },
     "execution_count": 28,
     "metadata": {},
     "output_type": "execute_result"
    }
   ],
   "source": [
    "feature = ['Pclass', 'Age']\n",
    "rendimiento(atributos_titanic, objetivo_titanic, feature, atributos_discretos_titanic)"
   ]
  },
  {
   "cell_type": "code",
   "execution_count": 29,
   "id": "08285304-871e-4d30-8c61-41e14561b345",
   "metadata": {},
   "outputs": [
    {
     "name": "stdout",
     "output_type": "stream",
     "text": [
      "                                MejorSolucionTemporal  Tamaño  Rendimiento\n",
      "14                                         [Embarked]       1     0.579354\n",
      "13                                  [Embarked, Alone]       2     0.535007\n",
      "12                             [Embarked, Alone, Age]       3     0.582295\n",
      "11                      [Embarked, Alone, Age, SibSp]       4     0.624031\n",
      "10               [Embarked, Alone, Age, SibSp, Parch]       5     0.596148\n",
      "9          [Embarked, Alone, Age, SibSp, Parch, Fare]       6     0.653750\n",
      "8    [Embarked, Alone, Deck, Age, SibSp, Parch, Fare]       7     0.695786\n",
      "7   [Embarked, Alone, Deck, Age, SibSp, Parch, Far...       8     0.674794\n",
      "6   [Sex, Embarked, Alone, Deck, Age, SibSp, Parch...       9     0.743571\n",
      "5   [Sex, Embarked, Alone, Deck, Age, SibSp, Parch...      10     0.773371\n",
      "4   [Sex, Embarked, Alone, Deck, Age, SibSp, Parch...      11     0.727411\n",
      "3   [Sex, Embarked, Alone, Deck, Age, SibSp, Parch...      12     0.757710\n",
      "2   [Sex, Embarked, Alone, Deck, Age, SibSp, Parch...      13     0.758239\n",
      "1   [Sex, Embarked, Alone, Deck, Age, SibSp, Parch...      14     0.725302\n",
      "0   [Sex, Embarked, Alone, Deck, Pclass, Age, SibS...      15     0.754405\n"
     ]
    }
   ],
   "source": [
    "def busqueda_secuencial_hacia_atras(atributos, objetivo, atributos_discretos, n_exp=10, cv=7):\n",
    "    # Inicialización\n",
    "    solucion_actual = list(atributos.columns)\n",
    "    n_features = len(solucion_actual)\n",
    "    resultados = []\n",
    "    \n",
    "    # Ejecución\n",
    "    while len(solucion_actual) > 0:\n",
    "        rendimiento_actual = rendimiento(atributos, objetivo, solucion_actual, atributos_discretos)\n",
    "        resultados.append((solucion_actual.copy(), len(solucion_actual), rendimiento_actual))\n",
    "        \n",
    "        if len(solucion_actual) == 1:\n",
    "            break\n",
    "        \n",
    "        peor_rendimiento = float('inf')\n",
    "        peor_feature = None\n",
    "        \n",
    "        # Evaluar todas las posibles soluciones temporales\n",
    "        for feature in solucion_actual:\n",
    "            solucion_temporal = solucion_actual.copy()\n",
    "            solucion_temporal.remove(feature)\n",
    "            rendimiento_temporal = rendimiento(atributos, objetivo, solucion_temporal, atributos_discretos)\n",
    "            \n",
    "            # Guardar el rendimiento de la peor característica\n",
    "            if rendimiento_temporal < peor_rendimiento:\n",
    "                peor_rendimiento = rendimiento_temporal\n",
    "                peor_feature = feature\n",
    "        \n",
    "        # Actualizar la solución actual eliminando la peor característica\n",
    "        solucion_actual.remove(peor_feature)\n",
    "    \n",
    "    # Crear un DataFrame con los resultados\n",
    "    df_resultados = pd.DataFrame(resultados, columns=['MejorSolucionTemporal', 'Tamaño', 'Rendimiento']).sort_values(by='Tamaño')\n",
    "    \n",
    "    # Devolver los resultados en forma de DataFrame\n",
    "    return df_resultados\n",
    "\n",
    "# Ejemplo de uso\n",
    "titanic = lectura_titanic()\n",
    "atributos_discretos_titanic = ['Sex', 'Embarked', 'Alone', 'Deck']\n",
    "atributos_continuos_titanic = ['Pclass', 'Age', 'SibSp', 'Parch', 'Fare', 'Initial', \n",
    "                               'Age_band', 'Family_Size', 'Fare_cat', 'Title', 'Is_Married']\n",
    "atributos_titanic = titanic.loc[:, atributos_discretos_titanic + atributos_continuos_titanic]\n",
    "objetivo_titanic = titanic['Survived']\n",
    "\n",
    "# Codificación de atributos discretos y objetivo\n",
    "codificador_atributos_discretos_titanic = OrdinalEncoder()\n",
    "atributos_titanic[atributos_discretos_titanic] = codificador_atributos_discretos_titanic.fit_transform(\n",
    "    atributos_titanic[atributos_discretos_titanic]\n",
    ")\n",
    "\n",
    "codificador_objetivo_titanic = LabelEncoder()\n",
    "objetivo_titanic = codificador_objetivo_titanic.fit_transform(objetivo_titanic)\n",
    "\n",
    "# Aplicar la búsqueda secuencial hacia atrás en los datos de entrenamiento\n",
    "resultados = busqueda_secuencial_hacia_atras(atributos_entrenamiento, objetivo_entrenamiento, atributos_discretos_titanic)\n",
    "\n",
    "# Mostrar los resultados en forma de tabla\n",
    "print(resultados)    "
   ]
  },
  {
   "cell_type": "code",
   "execution_count": null,
   "id": "334a745c-30a6-4799-9c8f-bbc436a82cd0",
   "metadata": {},
   "outputs": [],
   "source": [
    "def busqueda_secuencial_hacia_atras_mixta(atributos, objetivo, atributos_discretos, iteraciones=10, n_exp=10, cv=7):\n",
    "    # Inicialización\n",
    "    solucion_actual = list(atributos.columns)\n",
    "    n_features = len(solucion_actual)\n",
    "    añadidos = []\n",
    "    eliminados = []\n",
    "    resultados = []\n",
    "    contador = 0\n",
    "\n",
    "     while len(solucion_actual) > 0:\n",
    "        rendimiento_actual = rendimiento(atributos, objetivo, solucion_actual, atributos_discretos)\n",
    "        resultados.append((solucion_actual.copy(), len(solucion_actual), rendimiento_actual))\n",
    "        \n",
    "        if len(solucion_actual) == 1:\n",
    "            break\n",
    "        \n",
    "        peor_rendimiento = float('inf')\n",
    "        peor_feature = None\n",
    "        \n",
    "        # Evaluar todas las posibles soluciones temporales\n",
    "        for feature in solucion_actual:\n",
    "            solucion_temporal = solucion_actual.copy()\n",
    "            solucion_temporal.remove(feature)\n",
    "            rendimiento_temporal = rendimiento(atributos, objetivo, solucion_temporal, atributos_discretos)\n",
    "            \n",
    "            # Guardar el rendimiento de la peor característica\n",
    "            if rendimiento_temporal < peor_rendimiento:\n",
    "                peor_rendimiento = rendimiento_temporal\n",
    "                peor_feature = feature\n",
    "        \n",
    "        # Actualizar eliminados añadiendo la peor caracteristica y la solución actual eliminando la peor característica\n",
    "        eliminados.append(peor_feature)\n",
    "        solucion_actual.remove(peor_feature)\n",
    "\n",
    "        \n",
    "\n",
    "    \n",
    "\n",
    "\n",
    "\n",
    "\n",
    "\n",
    "\n"
   ]
  },
  {
   "cell_type": "code",
   "execution_count": null,
   "id": "7707a236-9395-4940-bc89-629b8557e345",
   "metadata": {},
   "outputs": [],
   "source": []
  },
  {
   "cell_type": "code",
   "execution_count": null,
   "id": "a18ed0bf-0eaf-4ac3-812a-1cb2bfda3b1c",
   "metadata": {},
   "outputs": [],
   "source": []
  },
  {
   "cell_type": "code",
   "execution_count": null,
   "id": "b906c05c-2e84-4ed0-b2fa-2689f66c6962",
   "metadata": {},
   "outputs": [],
   "source": []
  },
  {
   "cell_type": "code",
   "execution_count": null,
   "id": "26887ba7-a160-49d4-93a0-9716138b55fc",
   "metadata": {},
   "outputs": [],
   "source": []
  },
  {
   "cell_type": "code",
   "execution_count": null,
   "id": "76bf59b7-6278-4cad-b358-91ec05970864",
   "metadata": {},
   "outputs": [],
   "source": []
  }
 ],
 "metadata": {
  "kernelspec": {
   "display_name": "Python 3 (ipykernel)",
   "language": "python",
   "name": "python3"
  },
  "language_info": {
   "codemirror_mode": {
    "name": "ipython",
    "version": 3
   },
   "file_extension": ".py",
   "mimetype": "text/x-python",
   "name": "python",
   "nbconvert_exporter": "python",
   "pygments_lexer": "ipython3",
   "version": "3.11.7"
  }
 },
 "nbformat": 4,
 "nbformat_minor": 5
}
