{
 "cells": [
  {
   "cell_type": "markdown",
   "id": "0149a1d7-4b3c-46ec-8295-6291bb2b4961",
   "metadata": {},
   "source": [
    "# PROYECTO DE INTELIGENCIA ARTIFICIAL: Seleccion de características"
   ]
  },
  {
   "cell_type": "markdown",
   "id": "71bf0521-dc98-4820-b9ca-e5abb6479f47",
   "metadata": {},
   "source": [
    "Las siguientes funciones se encargan de obtener los atributos con los que trabajaremos, ademas de obtener los atributos ordenados y los objetivos para ambos csv."
   ]
  },
  {
   "cell_type": "markdown",
   "id": "d05e4735-672b-499f-a748-c57b743ca78c",
   "metadata": {},
   "source": [
    "Importaciones:"
   ]
  },
  {
   "cell_type": "code",
   "execution_count": 89,
   "id": "36d0b982-74f6-4a59-92e0-1d054cb462f5",
   "metadata": {},
   "outputs": [],
   "source": [
    "import pandas as pd\n",
    "\n",
    "import numpy as np\n",
    "\n",
    "from sklearn.preprocessing import OrdinalEncoder, LabelEncoder\n",
    "\n",
    "from sklearn.tree import DecisionTreeClassifier\n",
    "\n",
    "from matplotlib import pyplot\n",
    "from sklearn.tree import plot_tree\n",
    "from sklearn.metrics import confusion_matrix\n",
    "from sklearn.metrics import recall_score\n",
    "from sklearn.model_selection import cross_validate\n",
    "from sklearn.model_selection import train_test_split"
   ]
  },
  {
   "cell_type": "code",
   "execution_count": 6,
   "id": "e23f377d-4236-492d-bbb7-54f005754524",
   "metadata": {},
   "outputs": [],
   "source": [
    "def lectura_titanic():\n",
    "    fichero = pd.read_csv('titanic.csv')    \n",
    "    return fichero\n",
    "\n",
    "def lectura_breastCancer():\n",
    "    fichero = pd.read_csv('BreastCancer.csv')\n",
    "    return fichero"
   ]
  },
  {
   "cell_type": "code",
   "execution_count": 7,
   "id": "dd7a621b-b32c-45cd-9b48-9be7e744638b",
   "metadata": {},
   "outputs": [],
   "source": [
    "titanic = lectura_titanic()\n",
    "breast_cancer = lectura_breastCancer()"
   ]
  },
  {
   "cell_type": "code",
   "execution_count": 8,
   "id": "ab5cf9ed-3395-4ced-897a-057d6431bc1b",
   "metadata": {},
   "outputs": [],
   "source": [
    "# Eleccion de semilla inicial aleatoria.\n",
    "np.random.seed(357823)\n",
    "\n",
    "# Atributos discretos, continuos y objetivo de titanic.csv.\n",
    "atributos_discretos_titanic = ['Sex', 'Embarked', 'Alone', 'Deck']\n",
    "atributos_continuos_titanic = ['Pclass', 'Age', 'SibSp', 'Parch', 'Fare', 'Initial', \n",
    "                           'Age_band', 'Family_Size', 'Fare_cat', 'Title', 'Is_Married']\n",
    "atributos_titanic = titanic.loc[:, atributos_discretos_titanic + atributos_continuos_titanic]\n",
    "objetivo_titanic = titanic['Survived']\n",
    "\n",
    "# Atributos discretos, continuos y objetivo de BreastCancer.csv.\n",
    "atributos_continuos_breast_cancer = ['mean radius', 'mean texture', 'mean perimeter', 'mean area', 'mean smoothness', 'mean compactness', \n",
    "                           'mean concavity', 'mean concave points', 'mean symmetry', 'mean fractal dimension', 'radius error', \n",
    "                           'texture error', 'perimeter error', 'area error', 'smoothness error', 'compactness error', 'concavity error',\n",
    "                           'concave points error', 'symmetry error', 'fractal dimension error', 'worst radius', 'worst texture', \n",
    "                           'worst perimeter', 'worst area', 'worst smoothness', 'worst compactness', 'worst concavity', 'worst concave points',\n",
    "                           'worst symmetry', 'worst fractal dimension']\n",
    "\t\t\t\t\t\t\t\t\t\t\t\t\t\t\t\t\t\t\t\t\n",
    "atributos_breast_cancer = breast_cancer.loc[:, atributos_continuos_breast_cancer]\n",
    "objetivo_breast_cancer = breast_cancer['diagnosis']"
   ]
  },
  {
   "cell_type": "markdown",
   "id": "5f647224-06ea-4524-9ec6-b266c4685597",
   "metadata": {
    "jp-MarkdownHeadingCollapsed": true
   },
   "source": [
    "##### A continuación realizaremos los algoritmos de busqueda con los que vamos a trabajar. Para ello, trabajaremos con el algoritmo de \"Decision tree clasifier\" y el algoritmo de \"Naives bayes\"."
   ]
  },
  {
   "cell_type": "markdown",
   "id": "dc75d4d7-f407-4d1e-87ad-0ec46cbded3e",
   "metadata": {},
   "source": [
    "#### Decision tree clasifier"
   ]
  },
  {
   "cell_type": "code",
   "execution_count": 124,
   "id": "08d57e43-c043-4c06-b93d-3888e8b8b3fa",
   "metadata": {},
   "outputs": [],
   "source": [
    "def decision_tree(atributos, objetivo, atributos_discretos):\n",
    "    codificador_atributos_discretos = OrdinalEncoder()\n",
    "    codificador_atributos_discretos.fit(atributos[atributos_discretos])\n",
    "    \n",
    "    atributos[atributos_discretos] = codificador_atributos_discretos.transform(atributos[atributos_discretos])\n",
    "\n",
    "    codificador_objetivo = LabelEncoder()\n",
    "    objetivo = codificador_objetivo.fit_transform(objetivo)\n",
    "\n",
    "    clasificador_CART = DecisionTreeClassifier()\n",
    "    clasificador_CART.fit(atributos, objetivo)\n",
    "    print()\n",
    "    print('Número de atributos detectados:',\n",
    "      f'{codificador_atributos_discretos.n_features_in_}')\n",
    "    print()\n",
    "    print('Nombres de los atributos detectados:')\n",
    "    print(f'{codificador_atributos_discretos.feature_names_in_}')\n",
    "    print()\n",
    "    print('Categorías detectadas de cada atributo:')\n",
    "    for atributo, categorías in zip(\n",
    "        codificador_atributos_discretos.feature_names_in_,\n",
    "        codificador_atributos_discretos.categories_):\n",
    "        print(f'{atributo}: {categorías}')\n",
    "    print()\n",
    "    print(f'Clases detectadas: {codificador_objetivo.classes_}')\n",
    "    print()\n",
    "    return clasificador_CART"
   ]
  },
  {
   "cell_type": "code",
   "execution_count": 125,
   "id": "74c27d34-8a0c-432c-a3d8-12478023c34b",
   "metadata": {},
   "outputs": [
    {
     "name": "stdout",
     "output_type": "stream",
     "text": [
      "\n",
      "Número de atributos detectados: 4\n",
      "\n",
      "Nombres de los atributos detectados:\n",
      "['Sex' 'Embarked' 'Alone' 'Deck']\n",
      "\n",
      "Categorías detectadas de cada atributo:\n",
      "Sex: [0. 1.]\n",
      "Embarked: [0. 1. 2.]\n",
      "Alone: [0. 1.]\n",
      "Deck: [0. 1. 2. 3. 4. 5. 6. 7. 8.]\n",
      "\n",
      "Clases detectadas: [0 1]\n",
      "\n"
     ]
    },
    {
     "data": {
      "text/html": [
       "<style>#sk-container-id-12 {color: black;background-color: white;}#sk-container-id-12 pre{padding: 0;}#sk-container-id-12 div.sk-toggleable {background-color: white;}#sk-container-id-12 label.sk-toggleable__label {cursor: pointer;display: block;width: 100%;margin-bottom: 0;padding: 0.3em;box-sizing: border-box;text-align: center;}#sk-container-id-12 label.sk-toggleable__label-arrow:before {content: \"▸\";float: left;margin-right: 0.25em;color: #696969;}#sk-container-id-12 label.sk-toggleable__label-arrow:hover:before {color: black;}#sk-container-id-12 div.sk-estimator:hover label.sk-toggleable__label-arrow:before {color: black;}#sk-container-id-12 div.sk-toggleable__content {max-height: 0;max-width: 0;overflow: hidden;text-align: left;background-color: #f0f8ff;}#sk-container-id-12 div.sk-toggleable__content pre {margin: 0.2em;color: black;border-radius: 0.25em;background-color: #f0f8ff;}#sk-container-id-12 input.sk-toggleable__control:checked~div.sk-toggleable__content {max-height: 200px;max-width: 100%;overflow: auto;}#sk-container-id-12 input.sk-toggleable__control:checked~label.sk-toggleable__label-arrow:before {content: \"▾\";}#sk-container-id-12 div.sk-estimator input.sk-toggleable__control:checked~label.sk-toggleable__label {background-color: #d4ebff;}#sk-container-id-12 div.sk-label input.sk-toggleable__control:checked~label.sk-toggleable__label {background-color: #d4ebff;}#sk-container-id-12 input.sk-hidden--visually {border: 0;clip: rect(1px 1px 1px 1px);clip: rect(1px, 1px, 1px, 1px);height: 1px;margin: -1px;overflow: hidden;padding: 0;position: absolute;width: 1px;}#sk-container-id-12 div.sk-estimator {font-family: monospace;background-color: #f0f8ff;border: 1px dotted black;border-radius: 0.25em;box-sizing: border-box;margin-bottom: 0.5em;}#sk-container-id-12 div.sk-estimator:hover {background-color: #d4ebff;}#sk-container-id-12 div.sk-parallel-item::after {content: \"\";width: 100%;border-bottom: 1px solid gray;flex-grow: 1;}#sk-container-id-12 div.sk-label:hover label.sk-toggleable__label {background-color: #d4ebff;}#sk-container-id-12 div.sk-serial::before {content: \"\";position: absolute;border-left: 1px solid gray;box-sizing: border-box;top: 0;bottom: 0;left: 50%;z-index: 0;}#sk-container-id-12 div.sk-serial {display: flex;flex-direction: column;align-items: center;background-color: white;padding-right: 0.2em;padding-left: 0.2em;position: relative;}#sk-container-id-12 div.sk-item {position: relative;z-index: 1;}#sk-container-id-12 div.sk-parallel {display: flex;align-items: stretch;justify-content: center;background-color: white;position: relative;}#sk-container-id-12 div.sk-item::before, #sk-container-id-12 div.sk-parallel-item::before {content: \"\";position: absolute;border-left: 1px solid gray;box-sizing: border-box;top: 0;bottom: 0;left: 50%;z-index: -1;}#sk-container-id-12 div.sk-parallel-item {display: flex;flex-direction: column;z-index: 1;position: relative;background-color: white;}#sk-container-id-12 div.sk-parallel-item:first-child::after {align-self: flex-end;width: 50%;}#sk-container-id-12 div.sk-parallel-item:last-child::after {align-self: flex-start;width: 50%;}#sk-container-id-12 div.sk-parallel-item:only-child::after {width: 0;}#sk-container-id-12 div.sk-dashed-wrapped {border: 1px dashed gray;margin: 0 0.4em 0.5em 0.4em;box-sizing: border-box;padding-bottom: 0.4em;background-color: white;}#sk-container-id-12 div.sk-label label {font-family: monospace;font-weight: bold;display: inline-block;line-height: 1.2em;}#sk-container-id-12 div.sk-label-container {text-align: center;}#sk-container-id-12 div.sk-container {/* jupyter's `normalize.less` sets `[hidden] { display: none; }` but bootstrap.min.css set `[hidden] { display: none !important; }` so we also need the `!important` here to be able to override the default hidden behavior on the sphinx rendered scikit-learn.org. See: https://github.com/scikit-learn/scikit-learn/issues/21755 */display: inline-block !important;position: relative;}#sk-container-id-12 div.sk-text-repr-fallback {display: none;}</style><div id=\"sk-container-id-12\" class=\"sk-top-container\"><div class=\"sk-text-repr-fallback\"><pre>DecisionTreeClassifier()</pre><b>In a Jupyter environment, please rerun this cell to show the HTML representation or trust the notebook. <br />On GitHub, the HTML representation is unable to render, please try loading this page with nbviewer.org.</b></div><div class=\"sk-container\" hidden><div class=\"sk-item\"><div class=\"sk-estimator sk-toggleable\"><input class=\"sk-toggleable__control sk-hidden--visually\" id=\"sk-estimator-id-12\" type=\"checkbox\" checked><label for=\"sk-estimator-id-12\" class=\"sk-toggleable__label sk-toggleable__label-arrow\">DecisionTreeClassifier</label><div class=\"sk-toggleable__content\"><pre>DecisionTreeClassifier()</pre></div></div></div></div></div>"
      ],
      "text/plain": [
       "DecisionTreeClassifier()"
      ]
     },
     "execution_count": 125,
     "metadata": {},
     "output_type": "execute_result"
    }
   ],
   "source": [
    "# DECISION TREE CLASIFIER\n",
    "decision_tree(atributos_titanic, objetivo_titanic, atributos_discretos_titanic)"
   ]
  },
  {
   "cell_type": "markdown",
   "id": "91be2ee0-0597-4cd2-afa7-af689fdb124f",
   "metadata": {},
   "source": [
    "#### Funcion de rendimiento"
   ]
  },
  {
   "cell_type": "code",
   "execution_count": 128,
   "id": "44369881-b6e5-4a04-991c-966c9e10375b",
   "metadata": {},
   "outputs": [],
   "source": [
    "def rendimiento(atributos, objetivo, feature, atributos_discretos):\n",
    "    (atributos_entrenamiento, atributos_prueba,\n",
    "     objetivo_entrenamiento, objetivo_prueba) = train_test_split(\n",
    "        # Conjuntos de datos a dividir, usando los mismos índices para ambos\n",
    "        atributos, objetivo,\n",
    "        # Tamaño del conjunto de prueba (20 % en este caso)\n",
    "        test_size=.2,\n",
    "        # Estratificación según la distribución de clases en el atributo objetivo\n",
    "        stratify=objetivo)\n",
    "    tree = decision_tree(atributos, objetivo, atributos_discretos)\n",
    "    score = cross_validate(tree, atributos_entrenamiento[feature], objetivo_entrenamiento, cv = 7, scoring = 'balanced_accuracy')\n",
    "\n",
    "    print(f'Cantidad inicial de ejemplos: {objetivo.size}',\n",
    "      f'(80 % = {objetivo.size * .8}, 20 % = {objetivo.size * .2})')\n",
    "    print('Atributos:',\n",
    "      f'Entrenamiento ({atributos_entrenamiento.shape[0]} ejemplos)',\n",
    "      f'Prueba ({atributos_prueba.shape[0]} ejemplos)')\n",
    "    print('Objetivo:',\n",
    "      f'Entrenamiento ({objetivo_entrenamiento.shape[0]} ejemplos)',\n",
    "      f'Prueba ({objetivo_prueba.shape[0]} ejemplos)')\n",
    "    print('')\n",
    "    print('También podemos comprobar como se mantiene la proporción de ejemplos en cada clase tanto para el subconjunto de entrenamiento como para el de prueba.')\n",
    "    print('Proporción inicial de ejemplos:')\n",
    "    print(pd.Series(objetivo).value_counts(normalize=True))\n",
    "    print('Proporción de ejemplos de entrenamiento:')\n",
    "    print(pd.Series(objetivo_entrenamiento).value_counts(normalize=True))\n",
    "    print('Proporción de ejemplos de prueba:')\n",
    "    print(pd.Series(objetivo_prueba).value_counts(normalize=True))\n",
    "    print('')\n",
    "    return score"
   ]
  },
  {
   "cell_type": "code",
   "execution_count": 129,
   "id": "1351bb9a-24bf-4c19-a665-be087a85a821",
   "metadata": {},
   "outputs": [
    {
     "name": "stdout",
     "output_type": "stream",
     "text": [
      "\n",
      "Número de atributos detectados: 4\n",
      "\n",
      "Nombres de los atributos detectados:\n",
      "['Sex' 'Embarked' 'Alone' 'Deck']\n",
      "\n",
      "Categorías detectadas de cada atributo:\n",
      "Sex: [0. 1.]\n",
      "Embarked: [0. 1. 2.]\n",
      "Alone: [0. 1.]\n",
      "Deck: [0. 1. 2. 3. 4. 5. 6. 7. 8.]\n",
      "\n",
      "Clases detectadas: [0 1]\n",
      "\n",
      "Cantidad inicial de ejemplos: 891 (80 % = 712.8000000000001, 20 % = 178.20000000000002)\n",
      "Atributos: Entrenamiento (712 ejemplos) Prueba (179 ejemplos)\n",
      "Objetivo: Entrenamiento (712 ejemplos) Prueba (179 ejemplos)\n",
      "\n",
      "También podemos comprobar como se mantiene la proporción de ejemplos en cada clase tanto para el subconjunto de entrenamiento como para el de prueba.\n",
      "Proporción inicial de ejemplos:\n",
      "0    0.616162\n",
      "1    0.383838\n",
      "Name: proportion, dtype: float64\n",
      "Proporción de ejemplos de entrenamiento:\n",
      "0    0.616573\n",
      "1    0.383427\n",
      "Name: proportion, dtype: float64\n",
      "Proporción de ejemplos de prueba:\n",
      "0    0.614525\n",
      "1    0.385475\n",
      "Name: proportion, dtype: float64\n",
      "\n"
     ]
    },
    {
     "data": {
      "text/plain": [
       "{'fit_time': array([0.0019989 , 0.00200009, 0.00200057, 0.00199962, 0.00100064,\n",
       "        0.00099969, 0.0009985 ]),\n",
       " 'score_time': array([0.00100017, 0.00100017, 0.00099921, 0.00100017, 0.00100088,\n",
       "        0.00099969, 0.00101542]),\n",
       " 'test_score': array([0.62393162, 0.61782662, 0.61477411, 0.63553114, 0.70879121,\n",
       "        0.68382961, 0.76406121])}"
      ]
     },
     "execution_count": 129,
     "metadata": {},
     "output_type": "execute_result"
    }
   ],
   "source": [
    "feature = ['Pclass', 'Age']\n",
    "rendimiento(atributos_titanic, objetivo_titanic, feature, atributos_discretos_titanic)"
   ]
  },
  {
   "cell_type": "code",
   "execution_count": null,
   "id": "08285304-871e-4d30-8c61-41e14561b345",
   "metadata": {},
   "outputs": [],
   "source": [
    "\n",
    "        \n",
    "    "
   ]
  }
 ],
 "metadata": {
  "kernelspec": {
   "display_name": "Python 3 (ipykernel)",
   "language": "python",
   "name": "python3"
  },
  "language_info": {
   "codemirror_mode": {
    "name": "ipython",
    "version": 3
   },
   "file_extension": ".py",
   "mimetype": "text/x-python",
   "name": "python",
   "nbconvert_exporter": "python",
   "pygments_lexer": "ipython3",
   "version": "3.11.7"
  }
 },
 "nbformat": 4,
 "nbformat_minor": 5
}
